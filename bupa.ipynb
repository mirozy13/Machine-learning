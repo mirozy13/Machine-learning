{
  "nbformat": 4,
  "nbformat_minor": 0,
  "metadata": {
    "colab": {
      "provenance": [],
      "authorship_tag": "ABX9TyOhXgtJDxR3n51BZiocXVzA",
      "include_colab_link": true
    },
    "kernelspec": {
      "name": "python3",
      "display_name": "Python 3"
    },
    "language_info": {
      "name": "python"
    }
  },
  "cells": [
    {
      "cell_type": "markdown",
      "metadata": {
        "id": "view-in-github",
        "colab_type": "text"
      },
      "source": [
        "<a href=\"https://colab.research.google.com/github/mirozy13/Machine-learning/blob/main/bupa.ipynb\" target=\"_parent\"><img src=\"https://colab.research.google.com/assets/colab-badge.svg\" alt=\"Open In Colab\"/></a>"
      ]
    },
    {
      "cell_type": "code",
      "execution_count": 9,
      "metadata": {
        "id": "ZT3XmDpR6WTb"
      },
      "outputs": [],
      "source": [
        "import pandas as pd\n",
        "import numpy as np\n",
        "import sklearn\n",
        "import matplotlib.pyplot as plt\n",
        "import seaborn as sns\n",
        "%matplotlib inline\n",
        "import warnings\n",
        "warnings.simplefilter(action='ignore', category=FutureWarning)"
      ]
    },
    {
      "cell_type": "code",
      "source": [
        "%%capture\n",
        "!wget https://www.dropbox.com/s/yphjpb2sph9vf35/bupa.csv"
      ],
      "metadata": {
        "id": "O5hevFQWKVfb"
      },
      "execution_count": 10,
      "outputs": []
    },
    {
      "cell_type": "code",
      "source": [
        "names = ['Mcv','Alkphos','Sgpt','Sgot','Gammagt','Drinks','Selector']\n",
        "data = pd.read_csv(\"bupa.csv\",names = names)\n",
        "data.info()"
      ],
      "metadata": {
        "colab": {
          "base_uri": "https://localhost:8080/"
        },
        "id": "Ht5umQ5rKZdt",
        "outputId": "64f89517-a89a-4a34-b96b-61606d63485b"
      },
      "execution_count": 11,
      "outputs": [
        {
          "output_type": "stream",
          "name": "stdout",
          "text": [
            "<class 'pandas.core.frame.DataFrame'>\n",
            "RangeIndex: 345 entries, 0 to 344\n",
            "Data columns (total 7 columns):\n",
            " #   Column    Non-Null Count  Dtype  \n",
            "---  ------    --------------  -----  \n",
            " 0   Mcv       345 non-null    float64\n",
            " 1   Alkphos   345 non-null    float64\n",
            " 2   Sgpt      345 non-null    float64\n",
            " 3   Sgot      345 non-null    float64\n",
            " 4   Gammagt   345 non-null    float64\n",
            " 5   Drinks    345 non-null    float64\n",
            " 6   Selector  345 non-null    int64  \n",
            "dtypes: float64(6), int64(1)\n",
            "memory usage: 19.0 KB\n"
          ]
        }
      ]
    },
    {
      "cell_type": "code",
      "source": [
        "data.drop(labels = [0,1,2,3,4,5,6,7,8,9,10,11],axis = 0, inplace = True)"
      ],
      "metadata": {
        "id": "YaEndocrqXe5"
      },
      "execution_count": 12,
      "outputs": []
    },
    {
      "cell_type": "code",
      "source": [
        "data"
      ],
      "metadata": {
        "colab": {
          "base_uri": "https://localhost:8080/",
          "height": 424
        },
        "id": "FDKfnDKozqIK",
        "outputId": "45c45488-d98c-44f5-eeab-0d8de90f1d26"
      },
      "execution_count": 13,
      "outputs": [
        {
          "output_type": "execute_result",
          "data": {
            "text/plain": [
              "      Mcv  Alkphos  Sgpt  Sgot  Gammagt  Drinks  Selector\n",
              "12   96.0     67.0  29.0  20.0     11.0     0.5         1\n",
              "13   91.0     78.0  20.0  31.0     18.0     0.5         1\n",
              "14   89.0     67.0  23.0  16.0     10.0     0.5         1\n",
              "15   89.0     79.0  17.0  17.0     16.0     0.5         1\n",
              "16   91.0    107.0  20.0  20.0     56.0     0.5         1\n",
              "..    ...      ...   ...   ...      ...     ...       ...\n",
              "340  91.0     54.0  25.0  22.0     35.0     4.0         1\n",
              "341  89.0     48.0  32.0  22.0     14.0     4.0         2\n",
              "342  85.0     52.0  22.0  23.0     34.0     4.0         2\n",
              "343  95.0     93.0  21.0  27.0     47.0     6.0         2\n",
              "344  91.0     93.0  35.0  34.0     37.0    10.0         2\n",
              "\n",
              "[333 rows x 7 columns]"
            ],
            "text/html": [
              "\n",
              "  <div id=\"df-d609890e-7eab-4dcd-8b47-5959442a4e85\">\n",
              "    <div class=\"colab-df-container\">\n",
              "      <div>\n",
              "<style scoped>\n",
              "    .dataframe tbody tr th:only-of-type {\n",
              "        vertical-align: middle;\n",
              "    }\n",
              "\n",
              "    .dataframe tbody tr th {\n",
              "        vertical-align: top;\n",
              "    }\n",
              "\n",
              "    .dataframe thead th {\n",
              "        text-align: right;\n",
              "    }\n",
              "</style>\n",
              "<table border=\"1\" class=\"dataframe\">\n",
              "  <thead>\n",
              "    <tr style=\"text-align: right;\">\n",
              "      <th></th>\n",
              "      <th>Mcv</th>\n",
              "      <th>Alkphos</th>\n",
              "      <th>Sgpt</th>\n",
              "      <th>Sgot</th>\n",
              "      <th>Gammagt</th>\n",
              "      <th>Drinks</th>\n",
              "      <th>Selector</th>\n",
              "    </tr>\n",
              "  </thead>\n",
              "  <tbody>\n",
              "    <tr>\n",
              "      <th>12</th>\n",
              "      <td>96.0</td>\n",
              "      <td>67.0</td>\n",
              "      <td>29.0</td>\n",
              "      <td>20.0</td>\n",
              "      <td>11.0</td>\n",
              "      <td>0.5</td>\n",
              "      <td>1</td>\n",
              "    </tr>\n",
              "    <tr>\n",
              "      <th>13</th>\n",
              "      <td>91.0</td>\n",
              "      <td>78.0</td>\n",
              "      <td>20.0</td>\n",
              "      <td>31.0</td>\n",
              "      <td>18.0</td>\n",
              "      <td>0.5</td>\n",
              "      <td>1</td>\n",
              "    </tr>\n",
              "    <tr>\n",
              "      <th>14</th>\n",
              "      <td>89.0</td>\n",
              "      <td>67.0</td>\n",
              "      <td>23.0</td>\n",
              "      <td>16.0</td>\n",
              "      <td>10.0</td>\n",
              "      <td>0.5</td>\n",
              "      <td>1</td>\n",
              "    </tr>\n",
              "    <tr>\n",
              "      <th>15</th>\n",
              "      <td>89.0</td>\n",
              "      <td>79.0</td>\n",
              "      <td>17.0</td>\n",
              "      <td>17.0</td>\n",
              "      <td>16.0</td>\n",
              "      <td>0.5</td>\n",
              "      <td>1</td>\n",
              "    </tr>\n",
              "    <tr>\n",
              "      <th>16</th>\n",
              "      <td>91.0</td>\n",
              "      <td>107.0</td>\n",
              "      <td>20.0</td>\n",
              "      <td>20.0</td>\n",
              "      <td>56.0</td>\n",
              "      <td>0.5</td>\n",
              "      <td>1</td>\n",
              "    </tr>\n",
              "    <tr>\n",
              "      <th>...</th>\n",
              "      <td>...</td>\n",
              "      <td>...</td>\n",
              "      <td>...</td>\n",
              "      <td>...</td>\n",
              "      <td>...</td>\n",
              "      <td>...</td>\n",
              "      <td>...</td>\n",
              "    </tr>\n",
              "    <tr>\n",
              "      <th>340</th>\n",
              "      <td>91.0</td>\n",
              "      <td>54.0</td>\n",
              "      <td>25.0</td>\n",
              "      <td>22.0</td>\n",
              "      <td>35.0</td>\n",
              "      <td>4.0</td>\n",
              "      <td>1</td>\n",
              "    </tr>\n",
              "    <tr>\n",
              "      <th>341</th>\n",
              "      <td>89.0</td>\n",
              "      <td>48.0</td>\n",
              "      <td>32.0</td>\n",
              "      <td>22.0</td>\n",
              "      <td>14.0</td>\n",
              "      <td>4.0</td>\n",
              "      <td>2</td>\n",
              "    </tr>\n",
              "    <tr>\n",
              "      <th>342</th>\n",
              "      <td>85.0</td>\n",
              "      <td>52.0</td>\n",
              "      <td>22.0</td>\n",
              "      <td>23.0</td>\n",
              "      <td>34.0</td>\n",
              "      <td>4.0</td>\n",
              "      <td>2</td>\n",
              "    </tr>\n",
              "    <tr>\n",
              "      <th>343</th>\n",
              "      <td>95.0</td>\n",
              "      <td>93.0</td>\n",
              "      <td>21.0</td>\n",
              "      <td>27.0</td>\n",
              "      <td>47.0</td>\n",
              "      <td>6.0</td>\n",
              "      <td>2</td>\n",
              "    </tr>\n",
              "    <tr>\n",
              "      <th>344</th>\n",
              "      <td>91.0</td>\n",
              "      <td>93.0</td>\n",
              "      <td>35.0</td>\n",
              "      <td>34.0</td>\n",
              "      <td>37.0</td>\n",
              "      <td>10.0</td>\n",
              "      <td>2</td>\n",
              "    </tr>\n",
              "  </tbody>\n",
              "</table>\n",
              "<p>333 rows × 7 columns</p>\n",
              "</div>\n",
              "      <button class=\"colab-df-convert\" onclick=\"convertToInteractive('df-d609890e-7eab-4dcd-8b47-5959442a4e85')\"\n",
              "              title=\"Convert this dataframe to an interactive table.\"\n",
              "              style=\"display:none;\">\n",
              "        \n",
              "  <svg xmlns=\"http://www.w3.org/2000/svg\" height=\"24px\"viewBox=\"0 0 24 24\"\n",
              "       width=\"24px\">\n",
              "    <path d=\"M0 0h24v24H0V0z\" fill=\"none\"/>\n",
              "    <path d=\"M18.56 5.44l.94 2.06.94-2.06 2.06-.94-2.06-.94-.94-2.06-.94 2.06-2.06.94zm-11 1L8.5 8.5l.94-2.06 2.06-.94-2.06-.94L8.5 2.5l-.94 2.06-2.06.94zm10 10l.94 2.06.94-2.06 2.06-.94-2.06-.94-.94-2.06-.94 2.06-2.06.94z\"/><path d=\"M17.41 7.96l-1.37-1.37c-.4-.4-.92-.59-1.43-.59-.52 0-1.04.2-1.43.59L10.3 9.45l-7.72 7.72c-.78.78-.78 2.05 0 2.83L4 21.41c.39.39.9.59 1.41.59.51 0 1.02-.2 1.41-.59l7.78-7.78 2.81-2.81c.8-.78.8-2.07 0-2.86zM5.41 20L4 18.59l7.72-7.72 1.47 1.35L5.41 20z\"/>\n",
              "  </svg>\n",
              "      </button>\n",
              "      \n",
              "  <style>\n",
              "    .colab-df-container {\n",
              "      display:flex;\n",
              "      flex-wrap:wrap;\n",
              "      gap: 12px;\n",
              "    }\n",
              "\n",
              "    .colab-df-convert {\n",
              "      background-color: #E8F0FE;\n",
              "      border: none;\n",
              "      border-radius: 50%;\n",
              "      cursor: pointer;\n",
              "      display: none;\n",
              "      fill: #1967D2;\n",
              "      height: 32px;\n",
              "      padding: 0 0 0 0;\n",
              "      width: 32px;\n",
              "    }\n",
              "\n",
              "    .colab-df-convert:hover {\n",
              "      background-color: #E2EBFA;\n",
              "      box-shadow: 0px 1px 2px rgba(60, 64, 67, 0.3), 0px 1px 3px 1px rgba(60, 64, 67, 0.15);\n",
              "      fill: #174EA6;\n",
              "    }\n",
              "\n",
              "    [theme=dark] .colab-df-convert {\n",
              "      background-color: #3B4455;\n",
              "      fill: #D2E3FC;\n",
              "    }\n",
              "\n",
              "    [theme=dark] .colab-df-convert:hover {\n",
              "      background-color: #434B5C;\n",
              "      box-shadow: 0px 1px 3px 1px rgba(0, 0, 0, 0.15);\n",
              "      filter: drop-shadow(0px 1px 2px rgba(0, 0, 0, 0.3));\n",
              "      fill: #FFFFFF;\n",
              "    }\n",
              "  </style>\n",
              "\n",
              "      <script>\n",
              "        const buttonEl =\n",
              "          document.querySelector('#df-d609890e-7eab-4dcd-8b47-5959442a4e85 button.colab-df-convert');\n",
              "        buttonEl.style.display =\n",
              "          google.colab.kernel.accessAllowed ? 'block' : 'none';\n",
              "\n",
              "        async function convertToInteractive(key) {\n",
              "          const element = document.querySelector('#df-d609890e-7eab-4dcd-8b47-5959442a4e85');\n",
              "          const dataTable =\n",
              "            await google.colab.kernel.invokeFunction('convertToInteractive',\n",
              "                                                     [key], {});\n",
              "          if (!dataTable) return;\n",
              "\n",
              "          const docLinkHtml = 'Like what you see? Visit the ' +\n",
              "            '<a target=\"_blank\" href=https://colab.research.google.com/notebooks/data_table.ipynb>data table notebook</a>'\n",
              "            + ' to learn more about interactive tables.';\n",
              "          element.innerHTML = '';\n",
              "          dataTable['output_type'] = 'display_data';\n",
              "          await google.colab.output.renderOutput(dataTable, element);\n",
              "          const docLink = document.createElement('div');\n",
              "          docLink.innerHTML = docLinkHtml;\n",
              "          element.appendChild(docLink);\n",
              "        }\n",
              "      </script>\n",
              "    </div>\n",
              "  </div>\n",
              "  "
            ]
          },
          "metadata": {},
          "execution_count": 13
        }
      ]
    },
    {
      "cell_type": "code",
      "source": [
        "data.isnull().sum()"
      ],
      "metadata": {
        "colab": {
          "base_uri": "https://localhost:8080/"
        },
        "id": "NClXilzW60V1",
        "outputId": "19142c47-af16-48a9-a26e-c2a3676311e3"
      },
      "execution_count": 14,
      "outputs": [
        {
          "output_type": "execute_result",
          "data": {
            "text/plain": [
              "Mcv         0\n",
              "Alkphos     0\n",
              "Sgpt        0\n",
              "Sgot        0\n",
              "Gammagt     0\n",
              "Drinks      0\n",
              "Selector    0\n",
              "dtype: int64"
            ]
          },
          "metadata": {},
          "execution_count": 14
        }
      ]
    },
    {
      "cell_type": "code",
      "source": [
        "data['Selector'] = data['Selector'].astype (int)"
      ],
      "metadata": {
        "id": "qNDrhaht7XWP"
      },
      "execution_count": 15,
      "outputs": []
    },
    {
      "cell_type": "code",
      "source": [
        "data.info()"
      ],
      "metadata": {
        "colab": {
          "base_uri": "https://localhost:8080/"
        },
        "id": "4AX8-MRe8xRJ",
        "outputId": "487c29a8-5b15-495d-d821-2486795fbd3c"
      },
      "execution_count": 16,
      "outputs": [
        {
          "output_type": "stream",
          "name": "stdout",
          "text": [
            "<class 'pandas.core.frame.DataFrame'>\n",
            "RangeIndex: 333 entries, 12 to 344\n",
            "Data columns (total 7 columns):\n",
            " #   Column    Non-Null Count  Dtype  \n",
            "---  ------    --------------  -----  \n",
            " 0   Mcv       333 non-null    float64\n",
            " 1   Alkphos   333 non-null    float64\n",
            " 2   Sgpt      333 non-null    float64\n",
            " 3   Sgot      333 non-null    float64\n",
            " 4   Gammagt   333 non-null    float64\n",
            " 5   Drinks    333 non-null    float64\n",
            " 6   Selector  333 non-null    int64  \n",
            "dtypes: float64(6), int64(1)\n",
            "memory usage: 18.3 KB\n"
          ]
        }
      ]
    },
    {
      "cell_type": "code",
      "source": [
        "y = data['Selector'].to_numpy()\n",
        "X = data.drop('Selector',1).to_numpy()\n",
        "print(np.unique(y))"
      ],
      "metadata": {
        "colab": {
          "base_uri": "https://localhost:8080/"
        },
        "id": "AJlJ5jcH0YtG",
        "outputId": "8552499b-eb15-4364-d5a9-d46ad32932c4"
      },
      "execution_count": 30,
      "outputs": [
        {
          "output_type": "stream",
          "name": "stdout",
          "text": [
            "[1 2]\n"
          ]
        }
      ]
    },
    {
      "cell_type": "code",
      "source": [
        "from sklearn.model_selection import cross_validate, StratifiedKFold\n",
        "from sklearn.svm import SVC\n",
        "from sklearn.preprocessing import RobustScaler\n",
        "from imblearn.over_sampling import BorderlineSMOTE\n",
        "from sklearn.metrics import balanced_accuracy_score\n",
        "\n",
        "y = data['Selector'].to_numpy()\n",
        "X = data.drop('Selector',1).to_numpy()\n",
        "kf = StratifiedKFold(5)\n",
        "train_accuracies = []\n",
        "test_accuracies = []\n",
        "for train_index, test_index in kf.split(X, y):\n",
        "  X_train = X[train_index]\n",
        "  X_test = X[test_index]\n",
        "  y_train = y[train_index]\n",
        "  y_test = y[test_index]\n",
        "  oversampler = BorderlineSMOTE()\n",
        "  X_train, y_train = oversampler.fit_resample(X_train, y_train)\n",
        "  scaler = RobustScaler()\n",
        "  X_train = scaler.fit_transform(X_train)\n",
        "  X_test = scaler.transform(X_test)\n",
        "  model = SVC()\n",
        "  model.fit(X_train, y_train)\n",
        "  y_pred_train = model.predict(X_train)\n",
        "  y_pred_test = model.predict(X_test)\n",
        "  balanced_accuracy_tr = balanced_accuracy_score(y_pred_train, y_train)\n",
        "  balanced_accuracy_ts = balanced_accuracy_score(y_pred_test, y_test)\n",
        "  train_accuracies.append(balanced_accuracy_tr)\n",
        "  test_accuracies.append(balanced_accuracy_ts)\n",
        "print(\"Обучение:\", np.mean(train_accuracies) * 100, \"%, Тест:\", np.mean(test_accuracies) * 100, '%')"
      ],
      "metadata": {
        "colab": {
          "base_uri": "https://localhost:8080/"
        },
        "id": "cIkDU3km0tRC",
        "outputId": "25e5b07f-f20e-4062-c3e1-c4dce146c483"
      },
      "execution_count": 36,
      "outputs": [
        {
          "output_type": "stream",
          "name": "stdout",
          "text": [
            "Обучение: 78.43426170517003 %, Тест: 67.32709423145621  %\n"
          ]
        }
      ]
    },
    {
      "cell_type": "code",
      "source": [
        "categorical = [len(np.unique(data[var])) for var in data.columns]\n",
        "\n",
        "print('Уникальные значения для каждого столбца :\\n\\n', categorical)"
      ],
      "metadata": {
        "colab": {
          "base_uri": "https://localhost:8080/"
        },
        "id": "0tHyVO4X2Fcc",
        "outputId": "1d4794a2-5e62-4871-8e82-443f6dd4fde5"
      },
      "execution_count": 32,
      "outputs": [
        {
          "output_type": "stream",
          "name": "stdout",
          "text": [
            "Уникальные значения для каждого столбца :\n",
            "\n",
            " [26, 78, 67, 47, 94, 16, 2]\n"
          ]
        }
      ]
    },
    {
      "cell_type": "code",
      "source": [
        "categorical[6]"
      ],
      "metadata": {
        "colab": {
          "base_uri": "https://localhost:8080/"
        },
        "id": "iTxzKlio2JZj",
        "outputId": "c845467d-081c-4300-84b0-616c47466ccb"
      },
      "execution_count": 33,
      "outputs": [
        {
          "output_type": "execute_result",
          "data": {
            "text/plain": [
              "2"
            ]
          },
          "metadata": {},
          "execution_count": 33
        }
      ]
    },
    {
      "cell_type": "code",
      "source": [
        "from sklearn.tree import DecisionTreeClassifier\n",
        "\n",
        "y = data['Selector'].to_numpy() \n",
        "X = data.drop('Selector',1).to_numpy()\n",
        "kf = StratifiedKFold(5)\n",
        "train_accuracies = []\n",
        "test_accuracies = []\n",
        "for train_index, test_index in kf.split(X, y):\n",
        "  X_train = X[train_index]\n",
        "  X_test = X[test_index]\n",
        "  y_train = y[train_index]\n",
        "  y_test = y[test_index]\n",
        "  oversampler = BorderlineSMOTE()\n",
        "  X_train, y_train = oversampler.fit_resample(X_train, y_train)\n",
        "  scaler = RobustScaler()\n",
        "  X_train = scaler.fit_transform(X_train)\n",
        "  X_test = scaler.transform(X_test)\n",
        "  model = DecisionTreeClassifier(ccp_alpha=0.01)\n",
        "  model.fit(X_train, y_train)\n",
        "  y_pred_train = model.predict(X_train)\n",
        "  y_pred_test = model.predict(X_test)\n",
        "  balanced_accuracy_tr = balanced_accuracy_score(y_pred_train, y_train)\n",
        "  balanced_accuracy_ts = balanced_accuracy_score(y_pred_test, y_test)\n",
        "  train_accuracies.append(balanced_accuracy_tr)\n",
        "  test_accuracies.append(balanced_accuracy_ts)\n",
        "print(\" Обучение:\", np.mean(train_accuracies) * 100, \"%, Тест:\", np.mean(test_accuracies) * 100, '%')"
      ],
      "metadata": {
        "colab": {
          "base_uri": "https://localhost:8080/"
        },
        "id": "R9CI9quI5NBy",
        "outputId": "0299a792-f9c8-48e3-d472-320033311805"
      },
      "execution_count": 37,
      "outputs": [
        {
          "output_type": "stream",
          "name": "stdout",
          "text": [
            " Обучение: 81.76973643816699 %, Тест: 64.07646697051844 %\n"
          ]
        }
      ]
    }
  ]
}