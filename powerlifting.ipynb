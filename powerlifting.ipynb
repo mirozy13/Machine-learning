{
  "nbformat": 4,
  "nbformat_minor": 0,
  "metadata": {
    "colab": {
      "provenance": [],
      "authorship_tag": "ABX9TyM/pjUw0A6OR2i5J84F8IHM",
      "include_colab_link": true
    },
    "kernelspec": {
      "name": "python3",
      "display_name": "Python 3"
    },
    "language_info": {
      "name": "python"
    }
  },
  "cells": [
    {
      "cell_type": "markdown",
      "metadata": {
        "id": "view-in-github",
        "colab_type": "text"
      },
      "source": [
        "<a href=\"https://colab.research.google.com/github/mirozy13/Machine-learning/blob/main/powerlifting.ipynb\" target=\"_parent\"><img src=\"https://colab.research.google.com/assets/colab-badge.svg\" alt=\"Open In Colab\"/></a>"
      ]
    },
    {
      "cell_type": "code",
      "execution_count": null,
      "metadata": {
        "id": "-tWhK39EltaA"
      },
      "outputs": [],
      "source": [
        "import numpy as np\n",
        "import pandas as pd\n",
        "import statsmodels.api as sm\n",
        "import matplotlib.pyplot as plt\n",
        "from statsmodels.sandbox.regression.predstd import wls_prediction_std\n",
        "np.random.seed(2023)"
      ]
    },
    {
      "cell_type": "code",
      "source": [
        "from google.colab import output\n",
        "!wget https://gist.githubusercontent.com/Yegorov/dc61c42aa4e89e139cd8248f59af6b3e/raw/20ac954e202fe6a038c2b4bb476703c02fe0df87/ya.py\n",
        "!chmod +x ya.py\n",
        "!./ya.py https://disk.yandex.ru/d/2QBkfBsLyFt5Gw\n",
        "!unzip powerlifting.zip\n",
        "output.clear()"
      ],
      "metadata": {
        "id": "Rp0j3Hz7mRka"
      },
      "execution_count": null,
      "outputs": []
    },
    {
      "cell_type": "code",
      "source": [
        "import pandas as pd\n",
        "df = pd.read_csv(\"openpowerlifting.csv\")"
      ],
      "metadata": {
        "colab": {
          "base_uri": "https://localhost:8080/"
        },
        "id": "zx34D5UKmYb1",
        "outputId": "8513d836-93a5-4ec0-b78e-63498a7c69cf"
      },
      "execution_count": null,
      "outputs": [
        {
          "output_type": "stream",
          "name": "stderr",
          "text": [
            "<ipython-input-80-5dd7a280c033>:2: DtypeWarning: Columns (35) have mixed types. Specify dtype option on import or set low_memory=False.\n",
            "  df = pd.read_csv(\"openpowerlifting.csv\")\n"
          ]
        }
      ]
    },
    {
      "cell_type": "code",
      "source": [
        "df.columns"
      ],
      "metadata": {
        "colab": {
          "base_uri": "https://localhost:8080/"
        },
        "id": "ftrOPh-Pmc9a",
        "outputId": "d1e6bcf3-eae7-45a5-faff-94cddf837c8b"
      },
      "execution_count": null,
      "outputs": [
        {
          "output_type": "execute_result",
          "data": {
            "text/plain": [
              "Index(['Name', 'Sex', 'Event', 'Equipment', 'Age', 'AgeClass', 'Division',\n",
              "       'BodyweightKg', 'WeightClassKg', 'Squat1Kg', 'Squat2Kg', 'Squat3Kg',\n",
              "       'Squat4Kg', 'Best3SquatKg', 'Bench1Kg', 'Bench2Kg', 'Bench3Kg',\n",
              "       'Bench4Kg', 'Best3BenchKg', 'Deadlift1Kg', 'Deadlift2Kg', 'Deadlift3Kg',\n",
              "       'Deadlift4Kg', 'Best3DeadliftKg', 'TotalKg', 'Place', 'Wilks',\n",
              "       'McCulloch', 'Glossbrenner', 'IPFPoints', 'Tested', 'Country',\n",
              "       'Federation', 'Date', 'MeetCountry', 'MeetState', 'MeetName'],\n",
              "      dtype='object')"
            ]
          },
          "metadata": {},
          "execution_count": 81
        }
      ]
    },
    {
      "cell_type": "code",
      "source": [
        "df.head(10)"
      ],
      "metadata": {
        "colab": {
          "base_uri": "https://localhost:8080/",
          "height": 630
        },
        "id": "bQysx2BQmgsp",
        "outputId": "262b6a75-ec07-4a22-d94b-d9b6d1aab8d5"
      },
      "execution_count": null,
      "outputs": [
        {
          "output_type": "execute_result",
          "data": {
            "text/plain": [
              "               Name Sex Event Equipment   Age AgeClass Division  BodyweightKg  \\\n",
              "0      Abbie Murphy   F   SBD     Wraps  29.0    24-34     F-OR          59.8   \n",
              "1       Abbie Tuong   F   SBD     Wraps  29.0    24-34     F-OR          58.5   \n",
              "2    Ainslee Hooper   F     B       Raw  40.0    40-44     F-OR          55.4   \n",
              "3   Amy Moldenhauer   F   SBD     Wraps  23.0    20-23     F-OR          60.0   \n",
              "4      Andrea Rowan   F   SBD     Wraps  45.0    45-49     F-OR         104.0   \n",
              "5     April Alvarez   F   SBD     Wraps  37.0    35-39     F-OR          74.0   \n",
              "6        Ash Morgan   F   SBD     Wraps  23.0    20-23     F-OR          59.8   \n",
              "7   Belinda Moloney   F   SBD     Wraps  35.0    35-39     F-OR          80.4   \n",
              "8   Briony Williams   F   SBD     Wraps  36.0    35-39     F-OR         108.0   \n",
              "9  Brooke Kowalczyk   F   SBD     Wraps  37.0    35-39     F-OR          74.8   \n",
              "\n",
              "  WeightClassKg  Squat1Kg  ...  McCulloch  Glossbrenner  IPFPoints  Tested  \\\n",
              "0            60      80.0  ...     324.16        286.42     511.15     NaN   \n",
              "1            60     100.0  ...     378.07        334.16     595.65     NaN   \n",
              "2            56       NaN  ...      38.56         34.12     313.97     NaN   \n",
              "3            60    -105.0  ...     345.61        305.37     547.04     NaN   \n",
              "4           110     120.0  ...     338.91        274.56     550.08     NaN   \n",
              "5            75     127.5  ...     354.74        312.20     596.18     NaN   \n",
              "6            60     115.0  ...     385.63        340.74     612.23     NaN   \n",
              "7          82.5     120.0  ...     337.62        296.00     575.85     NaN   \n",
              "8           110     180.0  ...     424.49        361.57     716.65     NaN   \n",
              "9            75     180.0  ...     452.31        397.92     762.42     NaN   \n",
              "\n",
              "   Country  Federation        Date  MeetCountry  MeetState       MeetName  \n",
              "0      NaN     GPC-AUS  2018-10-27    Australia        VIC  Melbourne Cup  \n",
              "1      NaN     GPC-AUS  2018-10-27    Australia        VIC  Melbourne Cup  \n",
              "2      NaN     GPC-AUS  2018-10-27    Australia        VIC  Melbourne Cup  \n",
              "3      NaN     GPC-AUS  2018-10-27    Australia        VIC  Melbourne Cup  \n",
              "4      NaN     GPC-AUS  2018-10-27    Australia        VIC  Melbourne Cup  \n",
              "5      NaN     GPC-AUS  2018-10-27    Australia        VIC  Melbourne Cup  \n",
              "6      NaN     GPC-AUS  2018-10-27    Australia        VIC  Melbourne Cup  \n",
              "7      NaN     GPC-AUS  2018-10-27    Australia        VIC  Melbourne Cup  \n",
              "8      NaN     GPC-AUS  2018-10-27    Australia        VIC  Melbourne Cup  \n",
              "9      NaN     GPC-AUS  2018-10-27    Australia        VIC  Melbourne Cup  \n",
              "\n",
              "[10 rows x 37 columns]"
            ],
            "text/html": [
              "\n",
              "  <div id=\"df-9a12660e-e537-4727-afc4-f85915b99a36\">\n",
              "    <div class=\"colab-df-container\">\n",
              "      <div>\n",
              "<style scoped>\n",
              "    .dataframe tbody tr th:only-of-type {\n",
              "        vertical-align: middle;\n",
              "    }\n",
              "\n",
              "    .dataframe tbody tr th {\n",
              "        vertical-align: top;\n",
              "    }\n",
              "\n",
              "    .dataframe thead th {\n",
              "        text-align: right;\n",
              "    }\n",
              "</style>\n",
              "<table border=\"1\" class=\"dataframe\">\n",
              "  <thead>\n",
              "    <tr style=\"text-align: right;\">\n",
              "      <th></th>\n",
              "      <th>Name</th>\n",
              "      <th>Sex</th>\n",
              "      <th>Event</th>\n",
              "      <th>Equipment</th>\n",
              "      <th>Age</th>\n",
              "      <th>AgeClass</th>\n",
              "      <th>Division</th>\n",
              "      <th>BodyweightKg</th>\n",
              "      <th>WeightClassKg</th>\n",
              "      <th>Squat1Kg</th>\n",
              "      <th>...</th>\n",
              "      <th>McCulloch</th>\n",
              "      <th>Glossbrenner</th>\n",
              "      <th>IPFPoints</th>\n",
              "      <th>Tested</th>\n",
              "      <th>Country</th>\n",
              "      <th>Federation</th>\n",
              "      <th>Date</th>\n",
              "      <th>MeetCountry</th>\n",
              "      <th>MeetState</th>\n",
              "      <th>MeetName</th>\n",
              "    </tr>\n",
              "  </thead>\n",
              "  <tbody>\n",
              "    <tr>\n",
              "      <th>0</th>\n",
              "      <td>Abbie Murphy</td>\n",
              "      <td>F</td>\n",
              "      <td>SBD</td>\n",
              "      <td>Wraps</td>\n",
              "      <td>29.0</td>\n",
              "      <td>24-34</td>\n",
              "      <td>F-OR</td>\n",
              "      <td>59.8</td>\n",
              "      <td>60</td>\n",
              "      <td>80.0</td>\n",
              "      <td>...</td>\n",
              "      <td>324.16</td>\n",
              "      <td>286.42</td>\n",
              "      <td>511.15</td>\n",
              "      <td>NaN</td>\n",
              "      <td>NaN</td>\n",
              "      <td>GPC-AUS</td>\n",
              "      <td>2018-10-27</td>\n",
              "      <td>Australia</td>\n",
              "      <td>VIC</td>\n",
              "      <td>Melbourne Cup</td>\n",
              "    </tr>\n",
              "    <tr>\n",
              "      <th>1</th>\n",
              "      <td>Abbie Tuong</td>\n",
              "      <td>F</td>\n",
              "      <td>SBD</td>\n",
              "      <td>Wraps</td>\n",
              "      <td>29.0</td>\n",
              "      <td>24-34</td>\n",
              "      <td>F-OR</td>\n",
              "      <td>58.5</td>\n",
              "      <td>60</td>\n",
              "      <td>100.0</td>\n",
              "      <td>...</td>\n",
              "      <td>378.07</td>\n",
              "      <td>334.16</td>\n",
              "      <td>595.65</td>\n",
              "      <td>NaN</td>\n",
              "      <td>NaN</td>\n",
              "      <td>GPC-AUS</td>\n",
              "      <td>2018-10-27</td>\n",
              "      <td>Australia</td>\n",
              "      <td>VIC</td>\n",
              "      <td>Melbourne Cup</td>\n",
              "    </tr>\n",
              "    <tr>\n",
              "      <th>2</th>\n",
              "      <td>Ainslee Hooper</td>\n",
              "      <td>F</td>\n",
              "      <td>B</td>\n",
              "      <td>Raw</td>\n",
              "      <td>40.0</td>\n",
              "      <td>40-44</td>\n",
              "      <td>F-OR</td>\n",
              "      <td>55.4</td>\n",
              "      <td>56</td>\n",
              "      <td>NaN</td>\n",
              "      <td>...</td>\n",
              "      <td>38.56</td>\n",
              "      <td>34.12</td>\n",
              "      <td>313.97</td>\n",
              "      <td>NaN</td>\n",
              "      <td>NaN</td>\n",
              "      <td>GPC-AUS</td>\n",
              "      <td>2018-10-27</td>\n",
              "      <td>Australia</td>\n",
              "      <td>VIC</td>\n",
              "      <td>Melbourne Cup</td>\n",
              "    </tr>\n",
              "    <tr>\n",
              "      <th>3</th>\n",
              "      <td>Amy Moldenhauer</td>\n",
              "      <td>F</td>\n",
              "      <td>SBD</td>\n",
              "      <td>Wraps</td>\n",
              "      <td>23.0</td>\n",
              "      <td>20-23</td>\n",
              "      <td>F-OR</td>\n",
              "      <td>60.0</td>\n",
              "      <td>60</td>\n",
              "      <td>-105.0</td>\n",
              "      <td>...</td>\n",
              "      <td>345.61</td>\n",
              "      <td>305.37</td>\n",
              "      <td>547.04</td>\n",
              "      <td>NaN</td>\n",
              "      <td>NaN</td>\n",
              "      <td>GPC-AUS</td>\n",
              "      <td>2018-10-27</td>\n",
              "      <td>Australia</td>\n",
              "      <td>VIC</td>\n",
              "      <td>Melbourne Cup</td>\n",
              "    </tr>\n",
              "    <tr>\n",
              "      <th>4</th>\n",
              "      <td>Andrea Rowan</td>\n",
              "      <td>F</td>\n",
              "      <td>SBD</td>\n",
              "      <td>Wraps</td>\n",
              "      <td>45.0</td>\n",
              "      <td>45-49</td>\n",
              "      <td>F-OR</td>\n",
              "      <td>104.0</td>\n",
              "      <td>110</td>\n",
              "      <td>120.0</td>\n",
              "      <td>...</td>\n",
              "      <td>338.91</td>\n",
              "      <td>274.56</td>\n",
              "      <td>550.08</td>\n",
              "      <td>NaN</td>\n",
              "      <td>NaN</td>\n",
              "      <td>GPC-AUS</td>\n",
              "      <td>2018-10-27</td>\n",
              "      <td>Australia</td>\n",
              "      <td>VIC</td>\n",
              "      <td>Melbourne Cup</td>\n",
              "    </tr>\n",
              "    <tr>\n",
              "      <th>5</th>\n",
              "      <td>April Alvarez</td>\n",
              "      <td>F</td>\n",
              "      <td>SBD</td>\n",
              "      <td>Wraps</td>\n",
              "      <td>37.0</td>\n",
              "      <td>35-39</td>\n",
              "      <td>F-OR</td>\n",
              "      <td>74.0</td>\n",
              "      <td>75</td>\n",
              "      <td>127.5</td>\n",
              "      <td>...</td>\n",
              "      <td>354.74</td>\n",
              "      <td>312.20</td>\n",
              "      <td>596.18</td>\n",
              "      <td>NaN</td>\n",
              "      <td>NaN</td>\n",
              "      <td>GPC-AUS</td>\n",
              "      <td>2018-10-27</td>\n",
              "      <td>Australia</td>\n",
              "      <td>VIC</td>\n",
              "      <td>Melbourne Cup</td>\n",
              "    </tr>\n",
              "    <tr>\n",
              "      <th>6</th>\n",
              "      <td>Ash Morgan</td>\n",
              "      <td>F</td>\n",
              "      <td>SBD</td>\n",
              "      <td>Wraps</td>\n",
              "      <td>23.0</td>\n",
              "      <td>20-23</td>\n",
              "      <td>F-OR</td>\n",
              "      <td>59.8</td>\n",
              "      <td>60</td>\n",
              "      <td>115.0</td>\n",
              "      <td>...</td>\n",
              "      <td>385.63</td>\n",
              "      <td>340.74</td>\n",
              "      <td>612.23</td>\n",
              "      <td>NaN</td>\n",
              "      <td>NaN</td>\n",
              "      <td>GPC-AUS</td>\n",
              "      <td>2018-10-27</td>\n",
              "      <td>Australia</td>\n",
              "      <td>VIC</td>\n",
              "      <td>Melbourne Cup</td>\n",
              "    </tr>\n",
              "    <tr>\n",
              "      <th>7</th>\n",
              "      <td>Belinda Moloney</td>\n",
              "      <td>F</td>\n",
              "      <td>SBD</td>\n",
              "      <td>Wraps</td>\n",
              "      <td>35.0</td>\n",
              "      <td>35-39</td>\n",
              "      <td>F-OR</td>\n",
              "      <td>80.4</td>\n",
              "      <td>82.5</td>\n",
              "      <td>120.0</td>\n",
              "      <td>...</td>\n",
              "      <td>337.62</td>\n",
              "      <td>296.00</td>\n",
              "      <td>575.85</td>\n",
              "      <td>NaN</td>\n",
              "      <td>NaN</td>\n",
              "      <td>GPC-AUS</td>\n",
              "      <td>2018-10-27</td>\n",
              "      <td>Australia</td>\n",
              "      <td>VIC</td>\n",
              "      <td>Melbourne Cup</td>\n",
              "    </tr>\n",
              "    <tr>\n",
              "      <th>8</th>\n",
              "      <td>Briony Williams</td>\n",
              "      <td>F</td>\n",
              "      <td>SBD</td>\n",
              "      <td>Wraps</td>\n",
              "      <td>36.0</td>\n",
              "      <td>35-39</td>\n",
              "      <td>F-OR</td>\n",
              "      <td>108.0</td>\n",
              "      <td>110</td>\n",
              "      <td>180.0</td>\n",
              "      <td>...</td>\n",
              "      <td>424.49</td>\n",
              "      <td>361.57</td>\n",
              "      <td>716.65</td>\n",
              "      <td>NaN</td>\n",
              "      <td>NaN</td>\n",
              "      <td>GPC-AUS</td>\n",
              "      <td>2018-10-27</td>\n",
              "      <td>Australia</td>\n",
              "      <td>VIC</td>\n",
              "      <td>Melbourne Cup</td>\n",
              "    </tr>\n",
              "    <tr>\n",
              "      <th>9</th>\n",
              "      <td>Brooke Kowalczyk</td>\n",
              "      <td>F</td>\n",
              "      <td>SBD</td>\n",
              "      <td>Wraps</td>\n",
              "      <td>37.0</td>\n",
              "      <td>35-39</td>\n",
              "      <td>F-OR</td>\n",
              "      <td>74.8</td>\n",
              "      <td>75</td>\n",
              "      <td>180.0</td>\n",
              "      <td>...</td>\n",
              "      <td>452.31</td>\n",
              "      <td>397.92</td>\n",
              "      <td>762.42</td>\n",
              "      <td>NaN</td>\n",
              "      <td>NaN</td>\n",
              "      <td>GPC-AUS</td>\n",
              "      <td>2018-10-27</td>\n",
              "      <td>Australia</td>\n",
              "      <td>VIC</td>\n",
              "      <td>Melbourne Cup</td>\n",
              "    </tr>\n",
              "  </tbody>\n",
              "</table>\n",
              "<p>10 rows × 37 columns</p>\n",
              "</div>\n",
              "      <button class=\"colab-df-convert\" onclick=\"convertToInteractive('df-9a12660e-e537-4727-afc4-f85915b99a36')\"\n",
              "              title=\"Convert this dataframe to an interactive table.\"\n",
              "              style=\"display:none;\">\n",
              "        \n",
              "  <svg xmlns=\"http://www.w3.org/2000/svg\" height=\"24px\"viewBox=\"0 0 24 24\"\n",
              "       width=\"24px\">\n",
              "    <path d=\"M0 0h24v24H0V0z\" fill=\"none\"/>\n",
              "    <path d=\"M18.56 5.44l.94 2.06.94-2.06 2.06-.94-2.06-.94-.94-2.06-.94 2.06-2.06.94zm-11 1L8.5 8.5l.94-2.06 2.06-.94-2.06-.94L8.5 2.5l-.94 2.06-2.06.94zm10 10l.94 2.06.94-2.06 2.06-.94-2.06-.94-.94-2.06-.94 2.06-2.06.94z\"/><path d=\"M17.41 7.96l-1.37-1.37c-.4-.4-.92-.59-1.43-.59-.52 0-1.04.2-1.43.59L10.3 9.45l-7.72 7.72c-.78.78-.78 2.05 0 2.83L4 21.41c.39.39.9.59 1.41.59.51 0 1.02-.2 1.41-.59l7.78-7.78 2.81-2.81c.8-.78.8-2.07 0-2.86zM5.41 20L4 18.59l7.72-7.72 1.47 1.35L5.41 20z\"/>\n",
              "  </svg>\n",
              "      </button>\n",
              "      \n",
              "  <style>\n",
              "    .colab-df-container {\n",
              "      display:flex;\n",
              "      flex-wrap:wrap;\n",
              "      gap: 12px;\n",
              "    }\n",
              "\n",
              "    .colab-df-convert {\n",
              "      background-color: #E8F0FE;\n",
              "      border: none;\n",
              "      border-radius: 50%;\n",
              "      cursor: pointer;\n",
              "      display: none;\n",
              "      fill: #1967D2;\n",
              "      height: 32px;\n",
              "      padding: 0 0 0 0;\n",
              "      width: 32px;\n",
              "    }\n",
              "\n",
              "    .colab-df-convert:hover {\n",
              "      background-color: #E2EBFA;\n",
              "      box-shadow: 0px 1px 2px rgba(60, 64, 67, 0.3), 0px 1px 3px 1px rgba(60, 64, 67, 0.15);\n",
              "      fill: #174EA6;\n",
              "    }\n",
              "\n",
              "    [theme=dark] .colab-df-convert {\n",
              "      background-color: #3B4455;\n",
              "      fill: #D2E3FC;\n",
              "    }\n",
              "\n",
              "    [theme=dark] .colab-df-convert:hover {\n",
              "      background-color: #434B5C;\n",
              "      box-shadow: 0px 1px 3px 1px rgba(0, 0, 0, 0.15);\n",
              "      filter: drop-shadow(0px 1px 2px rgba(0, 0, 0, 0.3));\n",
              "      fill: #FFFFFF;\n",
              "    }\n",
              "  </style>\n",
              "\n",
              "      <script>\n",
              "        const buttonEl =\n",
              "          document.querySelector('#df-9a12660e-e537-4727-afc4-f85915b99a36 button.colab-df-convert');\n",
              "        buttonEl.style.display =\n",
              "          google.colab.kernel.accessAllowed ? 'block' : 'none';\n",
              "\n",
              "        async function convertToInteractive(key) {\n",
              "          const element = document.querySelector('#df-9a12660e-e537-4727-afc4-f85915b99a36');\n",
              "          const dataTable =\n",
              "            await google.colab.kernel.invokeFunction('convertToInteractive',\n",
              "                                                     [key], {});\n",
              "          if (!dataTable) return;\n",
              "\n",
              "          const docLinkHtml = 'Like what you see? Visit the ' +\n",
              "            '<a target=\"_blank\" href=https://colab.research.google.com/notebooks/data_table.ipynb>data table notebook</a>'\n",
              "            + ' to learn more about interactive tables.';\n",
              "          element.innerHTML = '';\n",
              "          dataTable['output_type'] = 'display_data';\n",
              "          await google.colab.output.renderOutput(dataTable, element);\n",
              "          const docLink = document.createElement('div');\n",
              "          docLink.innerHTML = docLinkHtml;\n",
              "          element.appendChild(docLink);\n",
              "        }\n",
              "      </script>\n",
              "    </div>\n",
              "  </div>\n",
              "  "
            ]
          },
          "metadata": {},
          "execution_count": 82
        }
      ]
    },
    {
      "cell_type": "code",
      "source": [
        "df.shape"
      ],
      "metadata": {
        "colab": {
          "base_uri": "https://localhost:8080/"
        },
        "id": "vnlMVW0_mlz5",
        "outputId": "9118d03a-2e62-4752-e612-6247e990ca4d"
      },
      "execution_count": null,
      "outputs": [
        {
          "output_type": "execute_result",
          "data": {
            "text/plain": [
              "(1423354, 37)"
            ]
          },
          "metadata": {},
          "execution_count": 83
        }
      ]
    },
    {
      "cell_type": "code",
      "source": [
        "import numpy as np\n",
        "import matplotlib.pyplot as plt\n",
        "genders = np.unique(df['Sex'], return_counts=True)\n",
        "genders_ratios = genders[1] / np.sum(genders[1]) * 100\n",
        "plt.bar(genders[0], genders_ratios)\n",
        "plt.ylabel(\"% от общего числа\")\n",
        "plt.title(\"Гендерное соотношение\")"
      ],
      "metadata": {
        "colab": {
          "base_uri": "https://localhost:8080/",
          "height": 396
        },
        "id": "atEF-4fNmqmS",
        "outputId": "c809e7cf-e535-462e-ca53-9cd4ca6de736"
      },
      "execution_count": null,
      "outputs": [
        {
          "output_type": "execute_result",
          "data": {
            "text/plain": [
              "Text(0.5, 1.0, 'Гендерное соотношение')"
            ]
          },
          "metadata": {},
          "execution_count": 84
        },
        {
          "output_type": "display_data",
          "data": {
            "text/plain": [
              "<Figure size 600x400 with 1 Axes>"
            ],
            "image/png": "[encoded data removed]"
          },
          "metadata": {}
        }
      ]
    },
    {
      "cell_type": "code",
      "source": [
        "# соревнования для женщин\n",
        "df = df[df['Sex'] =='F']"
      ],
      "metadata": {
        "id": "1K8cOAAvmriv"
      },
      "execution_count": null,
      "outputs": []
    },
    {
      "cell_type": "code",
      "source": [
        "df[:10]"
      ],
      "metadata": {
        "colab": {
          "base_uri": "https://localhost:8080/",
          "height": 630
        },
        "id": "P7XV8iYemy0U",
        "outputId": "aa007d94-f5ef-4834-c5b9-fb2a1a836582"
      },
      "execution_count": null,
      "outputs": [
        {
          "output_type": "execute_result",
          "data": {
            "text/plain": [
              "               Name Sex Event Equipment   Age AgeClass Division  BodyweightKg  \\\n",
              "0      Abbie Murphy   F   SBD     Wraps  29.0    24-34     F-OR          59.8   \n",
              "1       Abbie Tuong   F   SBD     Wraps  29.0    24-34     F-OR          58.5   \n",
              "2    Ainslee Hooper   F     B       Raw  40.0    40-44     F-OR          55.4   \n",
              "3   Amy Moldenhauer   F   SBD     Wraps  23.0    20-23     F-OR          60.0   \n",
              "4      Andrea Rowan   F   SBD     Wraps  45.0    45-49     F-OR         104.0   \n",
              "5     April Alvarez   F   SBD     Wraps  37.0    35-39     F-OR          74.0   \n",
              "6        Ash Morgan   F   SBD     Wraps  23.0    20-23     F-OR          59.8   \n",
              "7   Belinda Moloney   F   SBD     Wraps  35.0    35-39     F-OR          80.4   \n",
              "8   Briony Williams   F   SBD     Wraps  36.0    35-39     F-OR         108.0   \n",
              "9  Brooke Kowalczyk   F   SBD     Wraps  37.0    35-39     F-OR          74.8   \n",
              "\n",
              "  WeightClassKg  Squat1Kg  ...  McCulloch  Glossbrenner  IPFPoints  Tested  \\\n",
              "0            60      80.0  ...     324.16        286.42     511.15     NaN   \n",
              "1            60     100.0  ...     378.07        334.16     595.65     NaN   \n",
              "2            56       NaN  ...      38.56         34.12     313.97     NaN   \n",
              "3            60    -105.0  ...     345.61        305.37     547.04     NaN   \n",
              "4           110     120.0  ...     338.91        274.56     550.08     NaN   \n",
              "5            75     127.5  ...     354.74        312.20     596.18     NaN   \n",
              "6            60     115.0  ...     385.63        340.74     612.23     NaN   \n",
              "7          82.5     120.0  ...     337.62        296.00     575.85     NaN   \n",
              "8           110     180.0  ...     424.49        361.57     716.65     NaN   \n",
              "9            75     180.0  ...     452.31        397.92     762.42     NaN   \n",
              "\n",
              "   Country  Federation        Date  MeetCountry  MeetState       MeetName  \n",
              "0      NaN     GPC-AUS  2018-10-27    Australia        VIC  Melbourne Cup  \n",
              "1      NaN     GPC-AUS  2018-10-27    Australia        VIC  Melbourne Cup  \n",
              "2      NaN     GPC-AUS  2018-10-27    Australia        VIC  Melbourne Cup  \n",
              "3      NaN     GPC-AUS  2018-10-27    Australia        VIC  Melbourne Cup  \n",
              "4      NaN     GPC-AUS  2018-10-27    Australia        VIC  Melbourne Cup  \n",
              "5      NaN     GPC-AUS  2018-10-27    Australia        VIC  Melbourne Cup  \n",
              "6      NaN     GPC-AUS  2018-10-27    Australia        VIC  Melbourne Cup  \n",
              "7      NaN     GPC-AUS  2018-10-27    Australia        VIC  Melbourne Cup  \n",
              "8      NaN     GPC-AUS  2018-10-27    Australia        VIC  Melbourne Cup  \n",
              "9      NaN     GPC-AUS  2018-10-27    Australia        VIC  Melbourne Cup  \n",
              "\n",
              "[10 rows x 37 columns]"
            ],
            "text/html": [
              "\n",
              "  <div id=\"df-c7e05163-dce0-4ef0-87b6-d47d93505746\">\n",
              "    <div class=\"colab-df-container\">\n",
              "      <div>\n",
              "<style scoped>\n",
              "    .dataframe tbody tr th:only-of-type {\n",
              "        vertical-align: middle;\n",
              "    }\n",
              "\n",
              "    .dataframe tbody tr th {\n",
              "        vertical-align: top;\n",
              "    }\n",
              "\n",
              "    .dataframe thead th {\n",
              "        text-align: right;\n",
              "    }\n",
              "</style>\n",
              "<table border=\"1\" class=\"dataframe\">\n",
              "  <thead>\n",
              "    <tr style=\"text-align: right;\">\n",
              "      <th></th>\n",
              "      <th>Name</th>\n",
              "      <th>Sex</th>\n",
              "      <th>Event</th>\n",
              "      <th>Equipment</th>\n",
              "      <th>Age</th>\n",
              "      <th>AgeClass</th>\n",
              "      <th>Division</th>\n",
              "      <th>BodyweightKg</th>\n",
              "      <th>WeightClassKg</th>\n",
              "      <th>Squat1Kg</th>\n",
              "      <th>...</th>\n",
              "      <th>McCulloch</th>\n",
              "      <th>Glossbrenner</th>\n",
              "      <th>IPFPoints</th>\n",
              "      <th>Tested</th>\n",
              "      <th>Country</th>\n",
              "      <th>Federation</th>\n",
              "      <th>Date</th>\n",
              "      <th>MeetCountry</th>\n",
              "      <th>MeetState</th>\n",
              "      <th>MeetName</th>\n",
              "    </tr>\n",
              "  </thead>\n",
              "  <tbody>\n",
              "    <tr>\n",
              "      <th>0</th>\n",
              "      <td>Abbie Murphy</td>\n",
              "      <td>F</td>\n",
              "      <td>SBD</td>\n",
              "      <td>Wraps</td>\n",
              "      <td>29.0</td>\n",
              "      <td>24-34</td>\n",
              "      <td>F-OR</td>\n",
              "      <td>59.8</td>\n",
              "      <td>60</td>\n",
              "      <td>80.0</td>\n",
              "      <td>...</td>\n",
              "      <td>324.16</td>\n",
              "      <td>286.42</td>\n",
              "      <td>511.15</td>\n",
              "      <td>NaN</td>\n",
              "      <td>NaN</td>\n",
              "      <td>GPC-AUS</td>\n",
              "      <td>2018-10-27</td>\n",
              "      <td>Australia</td>\n",
              "      <td>VIC</td>\n",
              "      <td>Melbourne Cup</td>\n",
              "    </tr>\n",
              "    <tr>\n",
              "      <th>1</th>\n",
              "      <td>Abbie Tuong</td>\n",
              "      <td>F</td>\n",
              "      <td>SBD</td>\n",
              "      <td>Wraps</td>\n",
              "      <td>29.0</td>\n",
              "      <td>24-34</td>\n",
              "      <td>F-OR</td>\n",
              "      <td>58.5</td>\n",
              "      <td>60</td>\n",
              "      <td>100.0</td>\n",
              "      <td>...</td>\n",
              "      <td>378.07</td>\n",
              "      <td>334.16</td>\n",
              "      <td>595.65</td>\n",
              "      <td>NaN</td>\n",
              "      <td>NaN</td>\n",
              "      <td>GPC-AUS</td>\n",
              "      <td>2018-10-27</td>\n",
              "      <td>Australia</td>\n",
              "      <td>VIC</td>\n",
              "      <td>Melbourne Cup</td>\n",
              "    </tr>\n",
              "    <tr>\n",
              "      <th>2</th>\n",
              "      <td>Ainslee Hooper</td>\n",
              "      <td>F</td>\n",
              "      <td>B</td>\n",
              "      <td>Raw</td>\n",
              "      <td>40.0</td>\n",
              "      <td>40-44</td>\n",
              "      <td>F-OR</td>\n",
              "      <td>55.4</td>\n",
              "      <td>56</td>\n",
              "      <td>NaN</td>\n",
              "      <td>...</td>\n",
              "      <td>38.56</td>\n",
              "      <td>34.12</td>\n",
              "      <td>313.97</td>\n",
              "      <td>NaN</td>\n",
              "      <td>NaN</td>\n",
              "      <td>GPC-AUS</td>\n",
              "      <td>2018-10-27</td>\n",
              "      <td>Australia</td>\n",
              "      <td>VIC</td>\n",
              "      <td>Melbourne Cup</td>\n",
              "    </tr>\n",
              "    <tr>\n",
              "      <th>3</th>\n",
              "      <td>Amy Moldenhauer</td>\n",
              "      <td>F</td>\n",
              "      <td>SBD</td>\n",
              "      <td>Wraps</td>\n",
              "      <td>23.0</td>\n",
              "      <td>20-23</td>\n",
              "      <td>F-OR</td>\n",
              "      <td>60.0</td>\n",
              "      <td>60</td>\n",
              "      <td>-105.0</td>\n",
              "      <td>...</td>\n",
              "      <td>345.61</td>\n",
              "      <td>305.37</td>\n",
              "      <td>547.04</td>\n",
              "      <td>NaN</td>\n",
              "      <td>NaN</td>\n",
              "      <td>GPC-AUS</td>\n",
              "      <td>2018-10-27</td>\n",
              "      <td>Australia</td>\n",
              "      <td>VIC</td>\n",
              "      <td>Melbourne Cup</td>\n",
              "    </tr>\n",
              "    <tr>\n",
              "      <th>4</th>\n",
              "      <td>Andrea Rowan</td>\n",
              "      <td>F</td>\n",
              "      <td>SBD</td>\n",
              "      <td>Wraps</td>\n",
              "      <td>45.0</td>\n",
              "      <td>45-49</td>\n",
              "      <td>F-OR</td>\n",
              "      <td>104.0</td>\n",
              "      <td>110</td>\n",
              "      <td>120.0</td>\n",
              "      <td>...</td>\n",
              "      <td>338.91</td>\n",
              "      <td>274.56</td>\n",
              "      <td>550.08</td>\n",
              "      <td>NaN</td>\n",
              "      <td>NaN</td>\n",
              "      <td>GPC-AUS</td>\n",
              "      <td>2018-10-27</td>\n",
              "      <td>Australia</td>\n",
              "      <td>VIC</td>\n",
              "      <td>Melbourne Cup</td>\n",
              "    </tr>\n",
              "    <tr>\n",
              "      <th>5</th>\n",
              "      <td>April Alvarez</td>\n",
              "      <td>F</td>\n",
              "      <td>SBD</td>\n",
              "      <td>Wraps</td>\n",
              "      <td>37.0</td>\n",
              "      <td>35-39</td>\n",
              "      <td>F-OR</td>\n",
              "      <td>74.0</td>\n",
              "      <td>75</td>\n",
              "      <td>127.5</td>\n",
              "      <td>...</td>\n",
              "      <td>354.74</td>\n",
              "      <td>312.20</td>\n",
              "      <td>596.18</td>\n",
              "      <td>NaN</td>\n",
              "      <td>NaN</td>\n",
              "      <td>GPC-AUS</td>\n",
              "      <td>2018-10-27</td>\n",
              "      <td>Australia</td>\n",
              "      <td>VIC</td>\n",
              "      <td>Melbourne Cup</td>\n",
              "    </tr>\n",
              "    <tr>\n",
              "      <th>6</th>\n",
              "      <td>Ash Morgan</td>\n",
              "      <td>F</td>\n",
              "      <td>SBD</td>\n",
              "      <td>Wraps</td>\n",
              "      <td>23.0</td>\n",
              "      <td>20-23</td>\n",
              "      <td>F-OR</td>\n",
              "      <td>59.8</td>\n",
              "      <td>60</td>\n",
              "      <td>115.0</td>\n",
              "      <td>...</td>\n",
              "      <td>385.63</td>\n",
              "      <td>340.74</td>\n",
              "      <td>612.23</td>\n",
              "      <td>NaN</td>\n",
              "      <td>NaN</td>\n",
              "      <td>GPC-AUS</td>\n",
              "      <td>2018-10-27</td>\n",
              "      <td>Australia</td>\n",
              "      <td>VIC</td>\n",
              "      <td>Melbourne Cup</td>\n",
              "    </tr>\n",
              "    <tr>\n",
              "      <th>7</th>\n",
              "      <td>Belinda Moloney</td>\n",
              "      <td>F</td>\n",
              "      <td>SBD</td>\n",
              "      <td>Wraps</td>\n",
              "      <td>35.0</td>\n",
              "      <td>35-39</td>\n",
              "      <td>F-OR</td>\n",
              "      <td>80.4</td>\n",
              "      <td>82.5</td>\n",
              "      <td>120.0</td>\n",
              "      <td>...</td>\n",
              "      <td>337.62</td>\n",
              "      <td>296.00</td>\n",
              "      <td>575.85</td>\n",
              "      <td>NaN</td>\n",
              "      <td>NaN</td>\n",
              "      <td>GPC-AUS</td>\n",
              "      <td>2018-10-27</td>\n",
              "      <td>Australia</td>\n",
              "      <td>VIC</td>\n",
              "      <td>Melbourne Cup</td>\n",
              "    </tr>\n",
              "    <tr>\n",
              "      <th>8</th>\n",
              "      <td>Briony Williams</td>\n",
              "      <td>F</td>\n",
              "      <td>SBD</td>\n",
              "      <td>Wraps</td>\n",
              "      <td>36.0</td>\n",
              "      <td>35-39</td>\n",
              "      <td>F-OR</td>\n",
              "      <td>108.0</td>\n",
              "      <td>110</td>\n",
              "      <td>180.0</td>\n",
              "      <td>...</td>\n",
              "      <td>424.49</td>\n",
              "      <td>361.57</td>\n",
              "      <td>716.65</td>\n",
              "      <td>NaN</td>\n",
              "      <td>NaN</td>\n",
              "      <td>GPC-AUS</td>\n",
              "      <td>2018-10-27</td>\n",
              "      <td>Australia</td>\n",
              "      <td>VIC</td>\n",
              "      <td>Melbourne Cup</td>\n",
              "    </tr>\n",
              "    <tr>\n",
              "      <th>9</th>\n",
              "      <td>Brooke Kowalczyk</td>\n",
              "      <td>F</td>\n",
              "      <td>SBD</td>\n",
              "      <td>Wraps</td>\n",
              "      <td>37.0</td>\n",
              "      <td>35-39</td>\n",
              "      <td>F-OR</td>\n",
              "      <td>74.8</td>\n",
              "      <td>75</td>\n",
              "      <td>180.0</td>\n",
              "      <td>...</td>\n",
              "      <td>452.31</td>\n",
              "      <td>397.92</td>\n",
              "      <td>762.42</td>\n",
              "      <td>NaN</td>\n",
              "      <td>NaN</td>\n",
              "      <td>GPC-AUS</td>\n",
              "      <td>2018-10-27</td>\n",
              "      <td>Australia</td>\n",
              "      <td>VIC</td>\n",
              "      <td>Melbourne Cup</td>\n",
              "    </tr>\n",
              "  </tbody>\n",
              "</table>\n",
              "<p>10 rows × 37 columns</p>\n",
              "</div>\n",
              "      <button class=\"colab-df-convert\" onclick=\"convertToInteractive('df-c7e05163-dce0-4ef0-87b6-d47d93505746')\"\n",
              "              title=\"Convert this dataframe to an interactive table.\"\n",
              "              style=\"display:none;\">\n",
              "        \n",
              "  <svg xmlns=\"http://www.w3.org/2000/svg\" height=\"24px\"viewBox=\"0 0 24 24\"\n",
              "       width=\"24px\">\n",
              "    <path d=\"M0 0h24v24H0V0z\" fill=\"none\"/>\n",
              "    <path d=\"M18.56 5.44l.94 2.06.94-2.06 2.06-.94-2.06-.94-.94-2.06-.94 2.06-2.06.94zm-11 1L8.5 8.5l.94-2.06 2.06-.94-2.06-.94L8.5 2.5l-.94 2.06-2.06.94zm10 10l.94 2.06.94-2.06 2.06-.94-2.06-.94-.94-2.06-.94 2.06-2.06.94z\"/><path d=\"M17.41 7.96l-1.37-1.37c-.4-.4-.92-.59-1.43-.59-.52 0-1.04.2-1.43.59L10.3 9.45l-7.72 7.72c-.78.78-.78 2.05 0 2.83L4 21.41c.39.39.9.59 1.41.59.51 0 1.02-.2 1.41-.59l7.78-7.78 2.81-2.81c.8-.78.8-2.07 0-2.86zM5.41 20L4 18.59l7.72-7.72 1.47 1.35L5.41 20z\"/>\n",
              "  </svg>\n",
              "      </button>\n",
              "      \n",
              "  <style>\n",
              "    .colab-df-container {\n",
              "      display:flex;\n",
              "      flex-wrap:wrap;\n",
              "      gap: 12px;\n",
              "    }\n",
              "\n",
              "    .colab-df-convert {\n",
              "      background-color: #E8F0FE;\n",
              "      border: none;\n",
              "      border-radius: 50%;\n",
              "      cursor: pointer;\n",
              "      display: none;\n",
              "      fill: #1967D2;\n",
              "      height: 32px;\n",
              "      padding: 0 0 0 0;\n",
              "      width: 32px;\n",
              "    }\n",
              "\n",
              "    .colab-df-convert:hover {\n",
              "      background-color: #E2EBFA;\n",
              "      box-shadow: 0px 1px 2px rgba(60, 64, 67, 0.3), 0px 1px 3px 1px rgba(60, 64, 67, 0.15);\n",
              "      fill: #174EA6;\n",
              "    }\n",
              "\n",
              "    [theme=dark] .colab-df-convert {\n",
              "      background-color: #3B4455;\n",
              "      fill: #D2E3FC;\n",
              "    }\n",
              "\n",
              "    [theme=dark] .colab-df-convert:hover {\n",
              "      background-color: #434B5C;\n",
              "      box-shadow: 0px 1px 3px 1px rgba(0, 0, 0, 0.15);\n",
              "      filter: drop-shadow(0px 1px 2px rgba(0, 0, 0, 0.3));\n",
              "      fill: #FFFFFF;\n",
              "    }\n",
              "  </style>\n",
              "\n",
              "      <script>\n",
              "        const buttonEl =\n",
              "          document.querySelector('#df-c7e05163-dce0-4ef0-87b6-d47d93505746 button.colab-df-convert');\n",
              "        buttonEl.style.display =\n",
              "          google.colab.kernel.accessAllowed ? 'block' : 'none';\n",
              "\n",
              "        async function convertToInteractive(key) {\n",
              "          const element = document.querySelector('#df-c7e05163-dce0-4ef0-87b6-d47d93505746');\n",
              "          const dataTable =\n",
              "            await google.colab.kernel.invokeFunction('convertToInteractive',\n",
              "                                                     [key], {});\n",
              "          if (!dataTable) return;\n",
              "\n",
              "          const docLinkHtml = 'Like what you see? Visit the ' +\n",
              "            '<a target=\"_blank\" href=https://colab.research.google.com/notebooks/data_table.ipynb>data table notebook</a>'\n",
              "            + ' to learn more about interactive tables.';\n",
              "          element.innerHTML = '';\n",
              "          dataTable['output_type'] = 'display_data';\n",
              "          await google.colab.output.renderOutput(dataTable, element);\n",
              "          const docLink = document.createElement('div');\n",
              "          docLink.innerHTML = docLinkHtml;\n",
              "          element.appendChild(docLink);\n",
              "        }\n",
              "      </script>\n",
              "    </div>\n",
              "  </div>\n",
              "  "
            ]
          },
          "metadata": {},
          "execution_count": 86
        }
      ]
    },
    {
      "cell_type": "code",
      "source": [
        "df.info()"
      ],
      "metadata": {
        "colab": {
          "base_uri": "https://localhost:8080/"
        },
        "id": "uCexMulym9G-",
        "outputId": "c12bc27a-de61-4adf-d72f-a7734c38f4c4"
      },
      "execution_count": null,
      "outputs": [
        {
          "output_type": "stream",
          "name": "stdout",
          "text": [
            "<class 'pandas.core.frame.DataFrame'>\n",
            "Int64Index: 363165 entries, 0 to 1423248\n",
            "Data columns (total 37 columns):\n",
            " #   Column           Non-Null Count   Dtype  \n",
            "---  ------           --------------   -----  \n",
            " 0   Name             363165 non-null  object \n",
            " 1   Sex              363165 non-null  object \n",
            " 2   Event            363165 non-null  object \n",
            " 3   Equipment        363165 non-null  object \n",
            " 4   Age              192760 non-null  float64\n",
            " 5   AgeClass         197836 non-null  object \n",
            " 6   Division         361453 non-null  object \n",
            " 7   BodyweightKg     359054 non-null  float64\n",
            " 8   WeightClassKg    359446 non-null  object \n",
            " 9   Squat1Kg         98473 non-null   float64\n",
            " 10  Squat2Kg         97802 non-null   float64\n",
            " 11  Squat3Kg         96605 non-null   float64\n",
            " 12  Squat4Kg         1472 non-null    float64\n",
            " 13  Best3SquatKg     285627 non-null  float64\n",
            " 14  Bench1Kg         128380 non-null  float64\n",
            " 15  Bench2Kg         127525 non-null  float64\n",
            " 16  Bench3Kg         125733 non-null  float64\n",
            " 17  Bench4Kg         2740 non-null    float64\n",
            " 18  Best3BenchKg     330291 non-null  float64\n",
            " 19  Deadlift1Kg      105365 non-null  float64\n",
            " 20  Deadlift2Kg      104162 non-null  float64\n",
            " 21  Deadlift3Kg      101980 non-null  float64\n",
            " 22  Deadlift4Kg      3715 non-null    float64\n",
            " 23  Best3DeadliftKg  299340 non-null  float64\n",
            " 24  TotalKg          339048 non-null  float64\n",
            " 25  Place            363165 non-null  object \n",
            " 26  Wilks            337032 non-null  float64\n",
            " 27  McCulloch        337021 non-null  float64\n",
            " 28  Glossbrenner     337032 non-null  float64\n",
            " 29  IPFPoints        328631 non-null  float64\n",
            " 30  Tested           298640 non-null  object \n",
            " 31  Country          89344 non-null   object \n",
            " 32  Federation       363165 non-null  object \n",
            " 33  Date             363165 non-null  object \n",
            " 34  MeetCountry      363165 non-null  object \n",
            " 35  MeetState        259145 non-null  object \n",
            " 36  MeetName         363165 non-null  object \n",
            "dtypes: float64(22), object(15)\n",
            "memory usage: 105.3+ MB\n"
          ]
        }
      ]
    },
    {
      "cell_type": "code",
      "source": [
        "df.describe()"
      ],
      "metadata": {
        "colab": {
          "base_uri": "https://localhost:8080/",
          "height": 394
        },
        "id": "gqqDLS3JnBsm",
        "outputId": "e18d9f60-e312-425d-cb42-1bc4fff98f35"
      },
      "execution_count": null,
      "outputs": [
        {
          "output_type": "execute_result",
          "data": {
            "text/plain": [
              "                 Age   BodyweightKg      Squat1Kg      Squat2Kg      Squat3Kg  \\\n",
              "count  192760.000000  359054.000000  98473.000000  97802.000000  96605.000000   \n",
              "mean       30.624624      68.007905     76.506435     62.824510     22.572693   \n",
              "std        12.445009      17.644408     85.724741    104.888779    125.316199   \n",
              "min         0.500000      15.880000   -365.000000   -453.600000   -453.600000   \n",
              "25%        21.000000      55.700000     70.000000     60.000000   -110.000000   \n",
              "50%        27.500000      64.800000     97.500000    100.000000     85.000000   \n",
              "75%        38.500000      75.890000    122.500000    125.000000    122.500000   \n",
              "max        97.000000     205.660000    350.000000    369.680000    365.000000   \n",
              "\n",
              "          Squat4Kg   Best3SquatKg       Bench1Kg       Bench2Kg  \\\n",
              "count  1472.000000  285627.000000  128380.000000  127525.000000   \n",
              "mean     61.885367     113.722239      50.263324      34.083361   \n",
              "std     127.274818      36.574329      47.173330      65.392049   \n",
              "min    -300.000000    -252.500000    -240.000000    -453.600000   \n",
              "25%     -68.125000      90.000000      42.500000      25.000000   \n",
              "50%     110.000000     110.000000      55.000000      55.000000   \n",
              "75%     145.000000     134.000000      72.500000      72.500000   \n",
              "max     377.500000     387.500000     230.000000     242.500000   \n",
              "\n",
              "            Bench3Kg  ...    Deadlift1Kg    Deadlift2Kg    Deadlift3Kg  \\\n",
              "count  125733.000000  ...  105365.000000  104162.000000  101980.000000   \n",
              "mean       -8.843100  ...     112.830098      98.115674      29.021149   \n",
              "std        76.394292  ...      57.086848      93.860712     139.187515   \n",
              "min      -575.000000  ...    -300.000000    -282.500000    -305.000000   \n",
              "25%       -70.000000  ...     100.000000     100.000000    -130.000000   \n",
              "50%       -47.500000  ...     120.000000     125.000000     110.000000   \n",
              "75%        65.000000  ...     140.000000     145.000000     140.000000   \n",
              "max       247.500000  ...     285.000000     295.000000     300.000000   \n",
              "\n",
              "       Deadlift4Kg  Best3DeadliftKg        TotalKg          Wilks  \\\n",
              "count  3715.000000    299340.000000  339048.000000  337032.000000   \n",
              "mean     75.514654       126.869407     264.442652     277.620578   \n",
              "std     125.477123        31.478235     110.860405     111.442054   \n",
              "min    -263.000000      -190.000000       7.480000      10.150000   \n",
              "25%      80.000000       105.000000     201.850000     218.700000   \n",
              "50%     125.000000       125.000000     272.160000     287.700000   \n",
              "75%     152.500000       145.150000     333.390000     348.180000   \n",
              "max     268.000000       315.000000     930.000000     776.170000   \n",
              "\n",
              "           McCulloch   Glossbrenner      IPFPoints  \n",
              "count  337021.000000  337032.000000  328631.000000  \n",
              "mean      284.505794     244.499947     473.405516  \n",
              "std       113.651099      98.399426     110.598600  \n",
              "min        10.150000       8.950000      13.960000  \n",
              "25%       223.640000     192.090000     393.315000  \n",
              "50%       293.600000     253.200000     460.320000  \n",
              "75%       355.570000     306.830000     539.605000  \n",
              "max       801.710000     682.760000    1207.480000  \n",
              "\n",
              "[8 rows x 22 columns]"
            ],
            "text/html": [
              "\n",
              "  <div id=\"df-17d7275f-f9cc-4b3a-b818-94543668bfc0\">\n",
              "    <div class=\"colab-df-container\">\n",
              "      <div>\n",
              "<style scoped>\n",
              "    .dataframe tbody tr th:only-of-type {\n",
              "        vertical-align: middle;\n",
              "    }\n",
              "\n",
              "    .dataframe tbody tr th {\n",
              "        vertical-align: top;\n",
              "    }\n",
              "\n",
              "    .dataframe thead th {\n",
              "        text-align: right;\n",
              "    }\n",
              "</style>\n",
              "<table border=\"1\" class=\"dataframe\">\n",
              "  <thead>\n",
              "    <tr style=\"text-align: right;\">\n",
              "      <th></th>\n",
              "      <th>Age</th>\n",
              "      <th>BodyweightKg</th>\n",
              "      <th>Squat1Kg</th>\n",
              "      <th>Squat2Kg</th>\n",
              "      <th>Squat3Kg</th>\n",
              "      <th>Squat4Kg</th>\n",
              "      <th>Best3SquatKg</th>\n",
              "      <th>Bench1Kg</th>\n",
              "      <th>Bench2Kg</th>\n",
              "      <th>Bench3Kg</th>\n",
              "      <th>...</th>\n",
              "      <th>Deadlift1Kg</th>\n",
              "      <th>Deadlift2Kg</th>\n",
              "      <th>Deadlift3Kg</th>\n",
              "      <th>Deadlift4Kg</th>\n",
              "      <th>Best3DeadliftKg</th>\n",
              "      <th>TotalKg</th>\n",
              "      <th>Wilks</th>\n",
              "      <th>McCulloch</th>\n",
              "      <th>Glossbrenner</th>\n",
              "      <th>IPFPoints</th>\n",
              "    </tr>\n",
              "  </thead>\n",
              "  <tbody>\n",
              "    <tr>\n",
              "      <th>count</th>\n",
              "      <td>192760.000000</td>\n",
              "      <td>359054.000000</td>\n",
              "      <td>98473.000000</td>\n",
              "      <td>97802.000000</td>\n",
              "      <td>96605.000000</td>\n",
              "      <td>1472.000000</td>\n",
              "      <td>285627.000000</td>\n",
              "      <td>128380.000000</td>\n",
              "      <td>127525.000000</td>\n",
              "      <td>125733.000000</td>\n",
              "      <td>...</td>\n",
              "      <td>105365.000000</td>\n",
              "      <td>104162.000000</td>\n",
              "      <td>101980.000000</td>\n",
              "      <td>3715.000000</td>\n",
              "      <td>299340.000000</td>\n",
              "      <td>339048.000000</td>\n",
              "      <td>337032.000000</td>\n",
              "      <td>337021.000000</td>\n",
              "      <td>337032.000000</td>\n",
              "      <td>328631.000000</td>\n",
              "    </tr>\n",
              "    <tr>\n",
              "      <th>mean</th>\n",
              "      <td>30.624624</td>\n",
              "      <td>68.007905</td>\n",
              "      <td>76.506435</td>\n",
              "      <td>62.824510</td>\n",
              "      <td>22.572693</td>\n",
              "      <td>61.885367</td>\n",
              "      <td>113.722239</td>\n",
              "      <td>50.263324</td>\n",
              "      <td>34.083361</td>\n",
              "      <td>-8.843100</td>\n",
              "      <td>...</td>\n",
              "      <td>112.830098</td>\n",
              "      <td>98.115674</td>\n",
              "      <td>29.021149</td>\n",
              "      <td>75.514654</td>\n",
              "      <td>126.869407</td>\n",
              "      <td>264.442652</td>\n",
              "      <td>277.620578</td>\n",
              "      <td>284.505794</td>\n",
              "      <td>244.499947</td>\n",
              "      <td>473.405516</td>\n",
              "    </tr>\n",
              "    <tr>\n",
              "      <th>std</th>\n",
              "      <td>12.445009</td>\n",
              "      <td>17.644408</td>\n",
              "      <td>85.724741</td>\n",
              "      <td>104.888779</td>\n",
              "      <td>125.316199</td>\n",
              "      <td>127.274818</td>\n",
              "      <td>36.574329</td>\n",
              "      <td>47.173330</td>\n",
              "      <td>65.392049</td>\n",
              "      <td>76.394292</td>\n",
              "      <td>...</td>\n",
              "      <td>57.086848</td>\n",
              "      <td>93.860712</td>\n",
              "      <td>139.187515</td>\n",
              "      <td>125.477123</td>\n",
              "      <td>31.478235</td>\n",
              "      <td>110.860405</td>\n",
              "      <td>111.442054</td>\n",
              "      <td>113.651099</td>\n",
              "      <td>98.399426</td>\n",
              "      <td>110.598600</td>\n",
              "    </tr>\n",
              "    <tr>\n",
              "      <th>min</th>\n",
              "      <td>0.500000</td>\n",
              "      <td>15.880000</td>\n",
              "      <td>-365.000000</td>\n",
              "      <td>-453.600000</td>\n",
              "      <td>-453.600000</td>\n",
              "      <td>-300.000000</td>\n",
              "      <td>-252.500000</td>\n",
              "      <td>-240.000000</td>\n",
              "      <td>-453.600000</td>\n",
              "      <td>-575.000000</td>\n",
              "      <td>...</td>\n",
              "      <td>-300.000000</td>\n",
              "      <td>-282.500000</td>\n",
              "      <td>-305.000000</td>\n",
              "      <td>-263.000000</td>\n",
              "      <td>-190.000000</td>\n",
              "      <td>7.480000</td>\n",
              "      <td>10.150000</td>\n",
              "      <td>10.150000</td>\n",
              "      <td>8.950000</td>\n",
              "      <td>13.960000</td>\n",
              "    </tr>\n",
              "    <tr>\n",
              "      <th>25%</th>\n",
              "      <td>21.000000</td>\n",
              "      <td>55.700000</td>\n",
              "      <td>70.000000</td>\n",
              "      <td>60.000000</td>\n",
              "      <td>-110.000000</td>\n",
              "      <td>-68.125000</td>\n",
              "      <td>90.000000</td>\n",
              "      <td>42.500000</td>\n",
              "      <td>25.000000</td>\n",
              "      <td>-70.000000</td>\n",
              "      <td>...</td>\n",
              "      <td>100.000000</td>\n",
              "      <td>100.000000</td>\n",
              "      <td>-130.000000</td>\n",
              "      <td>80.000000</td>\n",
              "      <td>105.000000</td>\n",
              "      <td>201.850000</td>\n",
              "      <td>218.700000</td>\n",
              "      <td>223.640000</td>\n",
              "      <td>192.090000</td>\n",
              "      <td>393.315000</td>\n",
              "    </tr>\n",
              "    <tr>\n",
              "      <th>50%</th>\n",
              "      <td>27.500000</td>\n",
              "      <td>64.800000</td>\n",
              "      <td>97.500000</td>\n",
              "      <td>100.000000</td>\n",
              "      <td>85.000000</td>\n",
              "      <td>110.000000</td>\n",
              "      <td>110.000000</td>\n",
              "      <td>55.000000</td>\n",
              "      <td>55.000000</td>\n",
              "      <td>-47.500000</td>\n",
              "      <td>...</td>\n",
              "      <td>120.000000</td>\n",
              "      <td>125.000000</td>\n",
              "      <td>110.000000</td>\n",
              "      <td>125.000000</td>\n",
              "      <td>125.000000</td>\n",
              "      <td>272.160000</td>\n",
              "      <td>287.700000</td>\n",
              "      <td>293.600000</td>\n",
              "      <td>253.200000</td>\n",
              "      <td>460.320000</td>\n",
              "    </tr>\n",
              "    <tr>\n",
              "      <th>75%</th>\n",
              "      <td>38.500000</td>\n",
              "      <td>75.890000</td>\n",
              "      <td>122.500000</td>\n",
              "      <td>125.000000</td>\n",
              "      <td>122.500000</td>\n",
              "      <td>145.000000</td>\n",
              "      <td>134.000000</td>\n",
              "      <td>72.500000</td>\n",
              "      <td>72.500000</td>\n",
              "      <td>65.000000</td>\n",
              "      <td>...</td>\n",
              "      <td>140.000000</td>\n",
              "      <td>145.000000</td>\n",
              "      <td>140.000000</td>\n",
              "      <td>152.500000</td>\n",
              "      <td>145.150000</td>\n",
              "      <td>333.390000</td>\n",
              "      <td>348.180000</td>\n",
              "      <td>355.570000</td>\n",
              "      <td>306.830000</td>\n",
              "      <td>539.605000</td>\n",
              "    </tr>\n",
              "    <tr>\n",
              "      <th>max</th>\n",
              "      <td>97.000000</td>\n",
              "      <td>205.660000</td>\n",
              "      <td>350.000000</td>\n",
              "      <td>369.680000</td>\n",
              "      <td>365.000000</td>\n",
              "      <td>377.500000</td>\n",
              "      <td>387.500000</td>\n",
              "      <td>230.000000</td>\n",
              "      <td>242.500000</td>\n",
              "      <td>247.500000</td>\n",
              "      <td>...</td>\n",
              "      <td>285.000000</td>\n",
              "      <td>295.000000</td>\n",
              "      <td>300.000000</td>\n",
              "      <td>268.000000</td>\n",
              "      <td>315.000000</td>\n",
              "      <td>930.000000</td>\n",
              "      <td>776.170000</td>\n",
              "      <td>801.710000</td>\n",
              "      <td>682.760000</td>\n",
              "      <td>1207.480000</td>\n",
              "    </tr>\n",
              "  </tbody>\n",
              "</table>\n",
              "<p>8 rows × 22 columns</p>\n",
              "</div>\n",
              "      <button class=\"colab-df-convert\" onclick=\"convertToInteractive('df-17d7275f-f9cc-4b3a-b818-94543668bfc0')\"\n",
              "              title=\"Convert this dataframe to an interactive table.\"\n",
              "              style=\"display:none;\">\n",
              "        \n",
              "  <svg xmlns=\"http://www.w3.org/2000/svg\" height=\"24px\"viewBox=\"0 0 24 24\"\n",
              "       width=\"24px\">\n",
              "    <path d=\"M0 0h24v24H0V0z\" fill=\"none\"/>\n",
              "    <path d=\"M18.56 5.44l.94 2.06.94-2.06 2.06-.94-2.06-.94-.94-2.06-.94 2.06-2.06.94zm-11 1L8.5 8.5l.94-2.06 2.06-.94-2.06-.94L8.5 2.5l-.94 2.06-2.06.94zm10 10l.94 2.06.94-2.06 2.06-.94-2.06-.94-.94-2.06-.94 2.06-2.06.94z\"/><path d=\"M17.41 7.96l-1.37-1.37c-.4-.4-.92-.59-1.43-.59-.52 0-1.04.2-1.43.59L10.3 9.45l-7.72 7.72c-.78.78-.78 2.05 0 2.83L4 21.41c.39.39.9.59 1.41.59.51 0 1.02-.2 1.41-.59l7.78-7.78 2.81-2.81c.8-.78.8-2.07 0-2.86zM5.41 20L4 18.59l7.72-7.72 1.47 1.35L5.41 20z\"/>\n",
              "  </svg>\n",
              "      </button>\n",
              "      \n",
              "  <style>\n",
              "    .colab-df-container {\n",
              "      display:flex;\n",
              "      flex-wrap:wrap;\n",
              "      gap: 12px;\n",
              "    }\n",
              "\n",
              "    .colab-df-convert {\n",
              "      background-color: #E8F0FE;\n",
              "      border: none;\n",
              "      border-radius: 50%;\n",
              "      cursor: pointer;\n",
              "      display: none;\n",
              "      fill: #1967D2;\n",
              "      height: 32px;\n",
              "      padding: 0 0 0 0;\n",
              "      width: 32px;\n",
              "    }\n",
              "\n",
              "    .colab-df-convert:hover {\n",
              "      background-color: #E2EBFA;\n",
              "      box-shadow: 0px 1px 2px rgba(60, 64, 67, 0.3), 0px 1px 3px 1px rgba(60, 64, 67, 0.15);\n",
              "      fill: #174EA6;\n",
              "    }\n",
              "\n",
              "    [theme=dark] .colab-df-convert {\n",
              "      background-color: #3B4455;\n",
              "      fill: #D2E3FC;\n",
              "    }\n",
              "\n",
              "    [theme=dark] .colab-df-convert:hover {\n",
              "      background-color: #434B5C;\n",
              "      box-shadow: 0px 1px 3px 1px rgba(0, 0, 0, 0.15);\n",
              "      filter: drop-shadow(0px 1px 2px rgba(0, 0, 0, 0.3));\n",
              "      fill: #FFFFFF;\n",
              "    }\n",
              "  </style>\n",
              "\n",
              "      <script>\n",
              "        const buttonEl =\n",
              "          document.querySelector('#df-17d7275f-f9cc-4b3a-b818-94543668bfc0 button.colab-df-convert');\n",
              "        buttonEl.style.display =\n",
              "          google.colab.kernel.accessAllowed ? 'block' : 'none';\n",
              "\n",
              "        async function convertToInteractive(key) {\n",
              "          const element = document.querySelector('#df-17d7275f-f9cc-4b3a-b818-94543668bfc0');\n",
              "          const dataTable =\n",
              "            await google.colab.kernel.invokeFunction('convertToInteractive',\n",
              "                                                     [key], {});\n",
              "          if (!dataTable) return;\n",
              "\n",
              "          const docLinkHtml = 'Like what you see? Visit the ' +\n",
              "            '<a target=\"_blank\" href=https://colab.research.google.com/notebooks/data_table.ipynb>data table notebook</a>'\n",
              "            + ' to learn more about interactive tables.';\n",
              "          element.innerHTML = '';\n",
              "          dataTable['output_type'] = 'display_data';\n",
              "          await google.colab.output.renderOutput(dataTable, element);\n",
              "          const docLink = document.createElement('div');\n",
              "          docLink.innerHTML = docLinkHtml;\n",
              "          element.appendChild(docLink);\n",
              "        }\n",
              "      </script>\n",
              "    </div>\n",
              "  </div>\n",
              "  "
            ]
          },
          "metadata": {},
          "execution_count": 88
        }
      ]
    },
    {
      "cell_type": "code",
      "source": [
        "df_regr = df[[\"BodyweightKg\", \"Age\", \"Equipment\", \"Tested\", \"Best3SquatKg\", \"Best3BenchKg\", \"Best3DeadliftKg\"]]\n",
        "df_regr.loc[df['Tested'] != 'Yes', 'Tested'] = \"No\""
      ],
      "metadata": {
        "id": "lNNaGVKYndtq"
      },
      "execution_count": null,
      "outputs": []
    },
    {
      "cell_type": "code",
      "source": [
        "df_regr = df_regr.rename(columns={\"Best3BenchKg\": \"bench\", \"Best3SquatKg\": \"squat\", \"Best3DeadliftKg\": \"deadlift\"})"
      ],
      "metadata": {
        "id": "pvkP0Lt5pBOS"
      },
      "execution_count": null,
      "outputs": []
    },
    {
      "cell_type": "code",
      "source": [
        "df_regr.loc[df_regr['Age'] < 18, 'Age'] = -1"
      ],
      "metadata": {
        "id": "34XOJ-98pHXc"
      },
      "execution_count": null,
      "outputs": []
    },
    {
      "cell_type": "code",
      "source": [
        "df_regr.loc[df_regr['bench'] < 0, 'bench'] = 0\n",
        "df_regr.loc[df_regr['squat'] < 0, 'squat'] = 0\n",
        "df_regr.loc[df_regr['deadlift'] < 0, 'deadlift'] = 0"
      ],
      "metadata": {
        "id": "EWbBPA6jpIxr"
      },
      "execution_count": null,
      "outputs": []
    },
    {
      "cell_type": "code",
      "source": [
        "df_regr['bench'].isna().sum()"
      ],
      "metadata": {
        "colab": {
          "base_uri": "https://localhost:8080/"
        },
        "id": "-7EG9UaRpLwf",
        "outputId": "b805f137-5a07-490f-ff6b-dcd96f62cbea"
      },
      "execution_count": null,
      "outputs": [
        {
          "output_type": "execute_result",
          "data": {
            "text/plain": [
              "32874"
            ]
          },
          "metadata": {},
          "execution_count": 93
        }
      ]
    },
    {
      "cell_type": "code",
      "source": [
        "df_regr = df_regr.fillna({\"bench\":-1, \"squat\":-1, \"deadlift\": -1, 'Age': -1, \"BodyweightKg\": -1})"
      ],
      "metadata": {
        "id": "rkbfIYVtpO0T"
      },
      "execution_count": null,
      "outputs": []
    },
    {
      "cell_type": "code",
      "source": [
        "df_regr['bench'].isna().sum()"
      ],
      "metadata": {
        "colab": {
          "base_uri": "https://localhost:8080/"
        },
        "id": "PqdDoW2NpQ-3",
        "outputId": "04141f9b-043e-448b-fcea-d543893d4358"
      },
      "execution_count": null,
      "outputs": [
        {
          "output_type": "execute_result",
          "data": {
            "text/plain": [
              "0"
            ]
          },
          "metadata": {},
          "execution_count": 95
        }
      ]
    },
    {
      "cell_type": "code",
      "source": [
        "df_regr.isna().any()"
      ],
      "metadata": {
        "colab": {
          "base_uri": "https://localhost:8080/"
        },
        "id": "vEtxv28ApSy_",
        "outputId": "f29645e1-216c-454a-e158-fab57403b1d4"
      },
      "execution_count": null,
      "outputs": [
        {
          "output_type": "execute_result",
          "data": {
            "text/plain": [
              "BodyweightKg    False\n",
              "Age             False\n",
              "Equipment       False\n",
              "Tested          False\n",
              "squat           False\n",
              "bench           False\n",
              "deadlift        False\n",
              "dtype: bool"
            ]
          },
          "metadata": {},
          "execution_count": 96
        }
      ]
    },
    {
      "cell_type": "code",
      "source": [
        "df_regr['Equipment'].head(5)"
      ],
      "metadata": {
        "colab": {
          "base_uri": "https://localhost:8080/"
        },
        "id": "rUiQjYzxpU9j",
        "outputId": "2ef180bb-5f87-4a7c-9e1c-6fdd59cbb967"
      },
      "execution_count": null,
      "outputs": [
        {
          "output_type": "execute_result",
          "data": {
            "text/plain": [
              "0    Wraps\n",
              "1    Wraps\n",
              "2      Raw\n",
              "3    Wraps\n",
              "4    Wraps\n",
              "Name: Equipment, dtype: object"
            ]
          },
          "metadata": {},
          "execution_count": 97
        }
      ]
    },
    {
      "cell_type": "code",
      "source": [
        "from sklearn.preprocessing import LabelEncoder\n",
        "le = LabelEncoder()\n",
        "df_regr['Equipment'] = le.fit_transform(df_regr['Equipment'])\n",
        "df_regr['Tested'] = LabelEncoder().fit_transform(df_regr['Tested'])\n",
        "output.clear()"
      ],
      "metadata": {
        "id": "rJpwwI8TpXTT"
      },
      "execution_count": null,
      "outputs": []
    },
    {
      "cell_type": "code",
      "source": [
        "df_regr['Equipment'].head(5)"
      ],
      "metadata": {
        "colab": {
          "base_uri": "https://localhost:8080/"
        },
        "id": "awPNKg-npa2X",
        "outputId": "6ffec995-d21f-4e0d-9e41-66f4760b0e78"
      },
      "execution_count": null,
      "outputs": [
        {
          "output_type": "execute_result",
          "data": {
            "text/plain": [
              "0    3\n",
              "1    3\n",
              "2    1\n",
              "3    3\n",
              "4    3\n",
              "Name: Equipment, dtype: int64"
            ]
          },
          "metadata": {},
          "execution_count": 99
        }
      ]
    },
    {
      "cell_type": "code",
      "source": [
        "import seaborn as sns \n",
        "plt.figure(figsize=(10,8), dpi= 80)\n",
        "sns.pairplot(df_regr[[\"BodyweightKg\", \"bench\", 'deadlift']][:500], kind=\"reg\")\n",
        "plt.show()"
      ],
      "metadata": {
        "colab": {
          "base_uri": "https://localhost:8080/",
          "height": 775
        },
        "id": "j4_-YI_epiHf",
        "outputId": "83fd0664-df99-426e-ed57-f1f8b3c0edc7"
      },
      "execution_count": null,
      "outputs": [
        {
          "output_type": "display_data",
          "data": {
            "text/plain": [
              "<Figure size 800x640 with 0 Axes>"
            ]
          },
          "metadata": {}
        },
        {
          "output_type": "display_data",
          "data": {
            "text/plain": [
              "<Figure size 750x750 with 12 Axes>"
            ],
            "image/png": "[encoded data removed]"
          },
          "metadata": {}
        }
      ]
    },
    {
      "cell_type": "code",
      "source": [
        "from sklearn.preprocessing import MinMaxScaler, RobustScaler\n",
        "scaler = MinMaxScaler()\n",
        "scaler.fit(df_regr[:500])\n",
        "df_transform = pd.DataFrame(data=scaler.fit_transform(df_regr[:500]), columns=df_regr.columns)\n",
        "sns.jointplot(data=df_transform,x='bench',y='Age',kind='reg',color=\"Purple\")\n",
        "plt.show()"
      ],
      "metadata": {
        "colab": {
          "base_uri": "https://localhost:8080/",
          "height": 607
        },
        "id": "K54KvXIIplQC",
        "outputId": "c8dbff0c-b0db-43a5-c71c-f05b7d9edd54"
      },
      "execution_count": null,
      "outputs": [
        {
          "output_type": "display_data",
          "data": {
            "text/plain": [
              "<Figure size 600x600 with 3 Axes>"
            ],
            "image/png": "[encoded data removed]"
          },
          "metadata": {}
        }
      ]
    },
    {
      "cell_type": "code",
      "source": [
        "from sklearn.preprocessing import StandardScaler\n",
        "scaler = StandardScaler()\n",
        "scaler.fit(df_regr[:500])\n",
        "df_transform = pd.DataFrame(data=scaler.fit_transform(df_regr[:500]), columns=df_regr.columns)\n",
        "sns.jointplot(data=df_transform,x='bench',y='Age',kind='reg',color=\"Red\")\n",
        "plt.show()"
      ],
      "metadata": {
        "colab": {
          "base_uri": "https://localhost:8080/",
          "height": 607
        },
        "id": "0Rd4VhlZpnxf",
        "outputId": "be63aed9-551c-4882-e4b0-973846b4b4fc"
      },
      "execution_count": null,
      "outputs": [
        {
          "output_type": "display_data",
          "data": {
            "text/plain": [
              "<Figure size 600x600 with 3 Axes>"
            ],
            "image/png": "[encoded data removed]"
          },
          "metadata": {}
        }
      ]
    },
    {
      "cell_type": "code",
      "source": [
        "from sklearn.preprocessing import RobustScaler\n",
        "scaler = RobustScaler()\n",
        "scaler.fit(df_regr[:500])\n",
        "df_transform = pd.DataFrame(data=scaler.fit_transform(df_regr[:500]), columns=df_regr.columns)\n",
        "sns.jointplot(data=df_transform,x='bench',y='Age',kind='reg',color=\"Green\")\n",
        "plt.show()"
      ],
      "metadata": {
        "colab": {
          "base_uri": "https://localhost:8080/",
          "height": 607
        },
        "id": "RTcbMqMXpqEh",
        "outputId": "a840bf6a-b0ac-4bf4-af94-48abc1f95a2d"
      },
      "execution_count": null,
      "outputs": [
        {
          "output_type": "display_data",
          "data": {
            "text/plain": [
              "<Figure size 600x600 with 3 Axes>"
            ],
            "image/png": "[encoded data removed]"
          },
          "metadata": {}
        }
      ]
    },
    {
      "cell_type": "code",
      "source": [
        "# X - объясняющие, независимые переменные, предикторы, ковариаты, регрессоры\n",
        "X = df_regr[[ \"BodyweightKg\",\"Age\", \"Equipment\", \"Tested\", \"bench\", 'deadlift']].to_numpy()\n",
        "# y - зависимая переменная, переменная результата, переменная отклика\n",
        "y = df_regr[\"squat\"].to_numpy()"
      ],
      "metadata": {
        "id": "tZqn2D2zpvT_"
      },
      "execution_count": null,
      "outputs": []
    },
    {
      "cell_type": "code",
      "source": [
        "import statsmodels.api as sm\n",
        "res = sm.OLS(y, X).fit()\n",
        "print(res.summary())"
      ],
      "metadata": {
        "colab": {
          "base_uri": "https://localhost:8080/"
        },
        "id": "M__a9TV6p-Hm",
        "outputId": "d05d819a-3b5c-40c9-f172-7f5c1270479d"
      },
      "execution_count": null,
      "outputs": [
        {
          "output_type": "stream",
          "name": "stdout",
          "text": [
            "                                 OLS Regression Results                                \n",
            "=======================================================================================\n",
            "Dep. Variable:                      y   R-squared (uncentered):                   0.902\n",
            "Model:                            OLS   Adj. R-squared (uncentered):              0.902\n",
            "Method:                 Least Squares   F-statistic:                          5.581e+05\n",
            "Date:                Thu, 23 Mar 2023   Prob (F-statistic):                        0.00\n",
            "Time:                        09:52:34   Log-Likelihood:                     -1.7864e+06\n",
            "No. Observations:              363165   AIC:                                  3.573e+06\n",
            "Df Residuals:                  363159   BIC:                                  3.573e+06\n",
            "Df Model:                           6                                                  \n",
            "Covariance Type:            nonrobust                                                  \n",
            "==============================================================================\n",
            "                 coef    std err          t      P>|t|      [0.025      0.975]\n",
            "------------------------------------------------------------------------------\n",
            "x1            -0.1310      0.003    -52.159      0.000      -0.136      -0.126\n",
            "x2            -0.5431      0.003   -176.713      0.000      -0.549      -0.537\n",
            "x3             6.2613      0.077     80.922      0.000       6.110       6.413\n",
            "x4             0.2552      0.134      1.900      0.057      -0.008       0.518\n",
            "x5             0.4739      0.002    229.203      0.000       0.470       0.478\n",
            "x6             0.6645      0.001    650.955      0.000       0.663       0.667\n",
            "==============================================================================\n",
            "Omnibus:                    50601.615   Durbin-Watson:                   1.022\n",
            "Prob(Omnibus):                  0.000   Jarque-Bera (JB):           611407.641\n",
            "Skew:                          -0.237   Prob(JB):                         0.00\n",
            "Kurtosis:                       9.339   Cond. No.                         368.\n",
            "==============================================================================\n",
            "\n",
            "Notes:\n",
            "[1] R² is computed without centering (uncentered) since the model does not contain a constant.\n",
            "[2] Standard Errors assume that the covariance matrix of the errors is correctly specified.\n"
          ]
        }
      ]
    },
    {
      "cell_type": "code",
      "source": [
        "import statsmodels.api as sm\n",
        "res = sm.OLS(y, np.hstack((X, np.ones(shape=(X.shape[0],1))))).fit()\n",
        "print(res.summary())"
      ],
      "metadata": {
        "colab": {
          "base_uri": "https://localhost:8080/"
        },
        "id": "z0odqtFRqDU2",
        "outputId": "f563297d-0b52-482f-d303-235c394d38dc"
      },
      "execution_count": null,
      "outputs": [
        {
          "output_type": "stream",
          "name": "stdout",
          "text": [
            "                            OLS Regression Results                            \n",
            "==============================================================================\n",
            "Dep. Variable:                      y   R-squared:                       0.674\n",
            "Model:                            OLS   Adj. R-squared:                  0.674\n",
            "Method:                 Least Squares   F-statistic:                 1.252e+05\n",
            "Date:                Thu, 23 Mar 2023   Prob (F-statistic):               0.00\n",
            "Time:                        09:52:36   Log-Likelihood:            -1.7790e+06\n",
            "No. Observations:              363165   AIC:                         3.558e+06\n",
            "Df Residuals:                  363158   BIC:                         3.558e+06\n",
            "Df Model:                           6                                         \n",
            "Covariance Type:            nonrobust                                         \n",
            "==============================================================================\n",
            "                 coef    std err          t      P>|t|      [0.025      0.975]\n",
            "------------------------------------------------------------------------------\n",
            "x1             0.0730      0.003     24.619      0.000       0.067       0.079\n",
            "x2            -0.4157      0.003   -130.563      0.000      -0.422      -0.409\n",
            "x3            11.8565      0.088    134.177      0.000      11.683      12.030\n",
            "x4             8.5026      0.148     57.587      0.000       8.213       8.792\n",
            "x5             0.4961      0.002    243.910      0.000       0.492       0.500\n",
            "x6             0.6856      0.001    675.685      0.000       0.684       0.688\n",
            "const        -36.3327      0.295   -123.226      0.000     -36.911     -35.755\n",
            "==============================================================================\n",
            "Omnibus:                    55287.145   Durbin-Watson:                   1.068\n",
            "Prob(Omnibus):                  0.000   Jarque-Bera (JB):           815813.560\n",
            "Skew:                          -0.231   Prob(JB):                         0.00\n",
            "Kurtosis:                      10.328   Cond. No.                         839.\n",
            "==============================================================================\n",
            "\n",
            "Notes:\n",
            "[1] Standard Errors assume that the covariance matrix of the errors is correctly specified.\n"
          ]
        }
      ]
    },
    {
      "cell_type": "code",
      "source": [
        "from sklearn.model_selection import KFold\n",
        "from sklearn.preprocessing import *\n",
        "from sklearn.linear_model import *\n",
        "from sklearn.svm import LinearSVR\n",
        "from sklearn.metrics import mean_absolute_error, mean_absolute_percentage_error, mean_squared_error, r2_score\n",
        "from sklearn.pipeline import make_pipeline\n",
        "\n",
        "cv = KFold(n_splits=5)\n",
        "mean_acc = []\n",
        "for i, (train_index, test_index) in enumerate(cv.split(X, y)):\n",
        "  X_train = X[train_index]\n",
        "  X_test = X[test_index]\n",
        "  y_train = y[train_index]\n",
        "  y_test = y[test_index]\n",
        "  scaler = RobustScaler()\n",
        "  X_train = scaler.fit_transform(X_train)\n",
        "  X_test = scaler.transform(X_test)\n",
        "  model = LinearSVR()\n",
        "  model.fit(X_train, y_train)\n",
        "  acc = r2_score(y_test, model.predict(X_test))\n",
        "  mean_acc.append(acc)\n",
        "print(np.mean(acc))"
      ],
      "metadata": {
        "colab": {
          "base_uri": "https://localhost:8080/"
        },
        "id": "6VdaH6xzqEqn",
        "outputId": "4ca34d70-8860-4517-bf01-92d142507dc0"
      },
      "execution_count": null,
      "outputs": [
        {
          "output_type": "stream",
          "name": "stdout",
          "text": [
            "0.5609469642508148\n"
          ]
        }
      ]
    },
    {
      "cell_type": "code",
      "source": [
        "cv = KFold(n_splits=5)\n",
        "mean_acc = []\n",
        "for i, (train_index, test_index) in enumerate(cv.split(X, y)):\n",
        "  X_train = X[train_index]\n",
        "  X_test = X[test_index]\n",
        "  y_train = y[train_index]\n",
        "  y_test = y[test_index]\n",
        "  scaler = RobustScaler()\n",
        "  X_train = scaler.fit_transform(X_train)\n",
        "  X_test = scaler.transform(X_test)\n",
        "  model = LinearSVR()\n",
        "  model.fit(X_train, y_train)\n",
        "  acc = mean_squared_error(y_test, model.predict(X_test))\n",
        "  mean_acc.append(acc)\n",
        "print(np.mean(acc))"
      ],
      "metadata": {
        "colab": {
          "base_uri": "https://localhost:8080/"
        },
        "id": "lFqg_z234PHV",
        "outputId": "8d02d877-95fb-4199-d194-210a4803d6e2"
      },
      "execution_count": null,
      "outputs": [
        {
          "output_type": "stream",
          "name": "stdout",
          "text": [
            "1614.3252805038671\n"
          ]
        }
      ]
    },
    {
      "cell_type": "code",
      "source": [
        "cv = KFold(n_splits=5)\n",
        "mean_acc = []\n",
        "for i, (train_index, test_index) in enumerate(cv.split(X, y)):\n",
        "  X_train = X[train_index]\n",
        "  X_test = X[test_index]\n",
        "  y_train = y[train_index]\n",
        "  y_test = y[test_index]\n",
        "  scaler = RobustScaler()\n",
        "  X_train = scaler.fit_transform(X_train)\n",
        "  X_test = scaler.transform(X_test)\n",
        "  model = LinearSVR()\n",
        "  model.fit(X_train, y_train)\n",
        "  acc = mean_absolute_error(y_test, model.predict(X_test))\n",
        "  mean_acc.append(acc)\n",
        "print(np.mean(acc))"
      ],
      "metadata": {
        "colab": {
          "base_uri": "https://localhost:8080/"
        },
        "id": "qPcspmEx6RCx",
        "outputId": "f9896b39-2532-4d96-d134-2b04ae2ea143"
      },
      "execution_count": null,
      "outputs": [
        {
          "output_type": "stream",
          "name": "stdout",
          "text": [
            "23.53689014538337\n"
          ]
        }
      ]
    },
    {
      "cell_type": "code",
      "source": [
        "cv = KFold(n_splits=5)\n",
        "mean_acc = []\n",
        "for i, (train_index, test_index) in enumerate(cv.split(X, y)):\n",
        "  X_train = X[train_index]\n",
        "  X_test = X[test_index]\n",
        "  y_train = y[train_index]\n",
        "  y_test = y[test_index]\n",
        "  scaler = RobustScaler()\n",
        "  X_train = scaler.fit_transform(X_train)\n",
        "  X_test = scaler.transform(X_test)\n",
        "  model = LinearSVR()\n",
        "  model.fit(X_train, y_train)\n",
        "  acc = mean_absolute_percentage_error(y_test, model.predict(X_test))\n",
        "  mean_acc.append(acc)\n",
        "print(np.mean(acc))"
      ],
      "metadata": {
        "colab": {
          "base_uri": "https://localhost:8080/"
        },
        "id": "xxttRubr6YX7",
        "outputId": "125c4599-103e-4f21-f853-db47cca1ddb5"
      },
      "execution_count": null,
      "outputs": [
        {
          "output_type": "stream",
          "name": "stdout",
          "text": [
            "13160141542747.887\n"
          ]
        }
      ]
    },
    {
      "cell_type": "code",
      "source": [
        "nsample = 100\n",
        "x = np.linspace(0, 10, 100)\n",
        "beta = np.array([1, 10])\n",
        "X = df_regr[[ \"BodyweightKg\",\"Age\", \"Equipment\", \"Tested\", \"bench\", 'deadlift']].to_numpy()\n",
        "y = df_regr[\"squat\"].to_numpy()\n"
      ],
      "metadata": {
        "id": "7zBoFXKN7z8U"
      },
      "execution_count": null,
      "outputs": []
    },
    {
      "cell_type": "code",
      "source": [
        "model = sm.OLS(y, X)\n",
        "res = model.fit()\n",
        "# выводим сводку результата\n",
        "print(res.summary())"
      ],
      "metadata": {
        "colab": {
          "base_uri": "https://localhost:8080/"
        },
        "id": "GdsjvOGR8lzT",
        "outputId": "999a6b1f-a226-4730-c293-a71482d595af"
      },
      "execution_count": null,
      "outputs": [
        {
          "output_type": "stream",
          "name": "stdout",
          "text": [
            "                                 OLS Regression Results                                \n",
            "=======================================================================================\n",
            "Dep. Variable:                      y   R-squared (uncentered):                   0.902\n",
            "Model:                            OLS   Adj. R-squared (uncentered):              0.902\n",
            "Method:                 Least Squares   F-statistic:                          5.581e+05\n",
            "Date:                Thu, 23 Mar 2023   Prob (F-statistic):                        0.00\n",
            "Time:                        10:13:12   Log-Likelihood:                     -1.7864e+06\n",
            "No. Observations:              363165   AIC:                                  3.573e+06\n",
            "Df Residuals:                  363159   BIC:                                  3.573e+06\n",
            "Df Model:                           6                                                  \n",
            "Covariance Type:            nonrobust                                                  \n",
            "==============================================================================\n",
            "                 coef    std err          t      P>|t|      [0.025      0.975]\n",
            "------------------------------------------------------------------------------\n",
            "x1            -0.1310      0.003    -52.159      0.000      -0.136      -0.126\n",
            "x2            -0.5431      0.003   -176.713      0.000      -0.549      -0.537\n",
            "x3             6.2613      0.077     80.922      0.000       6.110       6.413\n",
            "x4             0.2552      0.134      1.900      0.057      -0.008       0.518\n",
            "x5             0.4739      0.002    229.203      0.000       0.470       0.478\n",
            "x6             0.6645      0.001    650.955      0.000       0.663       0.667\n",
            "==============================================================================\n",
            "Omnibus:                    50601.615   Durbin-Watson:                   1.022\n",
            "Prob(Omnibus):                  0.000   Jarque-Bera (JB):           611407.641\n",
            "Skew:                          -0.237   Prob(JB):                         0.00\n",
            "Kurtosis:                       9.339   Cond. No.                         368.\n",
            "==============================================================================\n",
            "\n",
            "Notes:\n",
            "[1] R² is computed without centering (uncentered) since the model does not contain a constant.\n",
            "[2] Standard Errors assume that the covariance matrix of the errors is correctly specified.\n"
          ]
        }
      ]
    },
    {
      "cell_type": "code",
      "source": [
        "print('Коэффициенты модели: ', res.params)\n",
        "print('R2: ', res.rsquared)"
      ],
      "metadata": {
        "colab": {
          "base_uri": "https://localhost:8080/"
        },
        "id": "k-U5rzVD8pao",
        "outputId": "4c6b0240-4a9a-4a7f-e46c-72099378d439"
      },
      "execution_count": null,
      "outputs": [
        {
          "output_type": "stream",
          "name": "stdout",
          "text": [
            "Коэффициенты модели:  [-0.13099513 -0.54309925  6.26134824  0.25519573  0.47393292  0.66451727]\n",
            "R2:  0.9021670519516424\n"
          ]
        }
      ]
    }
  ]
}